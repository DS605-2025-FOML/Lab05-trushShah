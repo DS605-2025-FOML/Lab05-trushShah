{
 "cells": [
  {
   "cell_type": "markdown",
   "id": "9b5b4ee1",
   "metadata": {},
   "source": [
    "Task_1: EDA and Initial Cleaning"
   ]
  },
  {
   "cell_type": "markdown",
   "id": "3271af73",
   "metadata": {},
   "source": [
    "> 1. Load the dataset"
   ]
  },
  {
   "cell_type": "code",
   "execution_count": 7,
   "id": "4be41182",
   "metadata": {},
   "outputs": [],
   "source": [
    "import numpy as np\n",
    "import pandas as pd"
   ]
  },
  {
   "cell_type": "code",
   "execution_count": 8,
   "id": "7d49b0a3",
   "metadata": {},
   "outputs": [
    {
     "data": {
      "application/vnd.microsoft.datawrangler.viewer.v0+json": {
       "columns": [
        {
         "name": "index",
         "rawType": "int64",
         "type": "integer"
        },
        {
         "name": "CustomerID",
         "rawType": "object",
         "type": "string"
        },
        {
         "name": "Gender",
         "rawType": "object",
         "type": "string"
        },
        {
         "name": "SeniorCitizen",
         "rawType": "float64",
         "type": "float"
        },
        {
         "name": "Partner",
         "rawType": "object",
         "type": "string"
        },
        {
         "name": "Dependents",
         "rawType": "object",
         "type": "string"
        },
        {
         "name": "Tenure",
         "rawType": "float64",
         "type": "float"
        },
        {
         "name": "PhoneService",
         "rawType": "object",
         "type": "string"
        },
        {
         "name": "InternetService",
         "rawType": "object",
         "type": "string"
        },
        {
         "name": "MonthlyCharges",
         "rawType": "float64",
         "type": "float"
        },
        {
         "name": "TotalCharges",
         "rawType": "object",
         "type": "string"
        },
        {
         "name": "Churn",
         "rawType": "object",
         "type": "string"
        },
        {
         "name": "Timestamp",
         "rawType": "object",
         "type": "string"
        }
       ],
       "ref": "5c543fe5-ba09-43f9-b21a-a9913ec96920",
       "rows": [
        [
         "0",
         "CUST000001",
         "Male",
         "0.0",
         "Yes",
         "Yes",
         "26.0",
         "Yes",
         "Fiber optic",
         "70.32",
         null,
         "No",
         "26-10-2021"
        ],
        [
         "1",
         "CUST000002",
         "Female",
         "0.0",
         "No",
         "No",
         null,
         "Yes",
         "Fiber optic",
         "47.88",
         "2161.36",
         "Yes",
         "03-04-2022"
        ],
        [
         "2",
         "CUST000003",
         "Male",
         "0.0",
         "No",
         "Yes",
         null,
         "Yes",
         null,
         "99.91",
         "4224.95",
         "Yes",
         "03-05-2021"
        ],
        [
         "3",
         "CUST000004",
         "Male",
         null,
         "No",
         "No",
         "44.0",
         "Yes",
         "DSL",
         "29.44",
         "1340.09",
         "No",
         "18-08-2021"
        ],
        [
         "4",
         "CUST000005",
         null,
         "0.0",
         "No",
         "Yes",
         "29.0",
         null,
         "Fiber optic",
         "78.82",
         "2280.05",
         "No",
         "17-02-2022"
        ],
        [
         "5",
         "CUST000006",
         "Female",
         "0.0",
         "No",
         "Yes",
         "51.0",
         "Yes",
         "Fiber optic",
         "67.69",
         "3448.78",
         "No",
         "21-05-2022"
        ],
        [
         "6",
         "CUST000007",
         "Male",
         "0.0",
         "No",
         "No",
         null,
         "Yes",
         null,
         "29.1",
         "1838.4",
         "No",
         "22-12-2022"
        ],
        [
         "7",
         "CUST000008",
         "Male",
         "0.0",
         null,
         null,
         "32.0",
         "Yes",
         "DSL",
         "98.4",
         "3101.47",
         "Yes",
         "17-04-2020"
        ],
        [
         "8",
         "CUST000009",
         "Male",
         "0.0",
         "No",
         null,
         "15.0",
         "Yes",
         null,
         "48.37",
         null,
         "No",
         "25-11-2022"
        ],
        [
         "9",
         "CUST000010",
         "Female",
         "0.0",
         "No",
         "Yes",
         null,
         "Yes",
         "DSL",
         "72.3",
         "4735.31",
         "No",
         null
        ],
        [
         "10",
         "CUST000011",
         "Male",
         null,
         "Yes",
         null,
         "56.0",
         "Yes",
         null,
         "34.51",
         "1967.38",
         "No",
         "07-09-2021"
        ],
        [
         "11",
         "CUST000012",
         "Male",
         "0.0",
         "Yes",
         "Yes",
         "28.0",
         "Yes",
         "Fiber optic",
         "61.7",
         "1761.7",
         "No",
         "11-08-2020"
        ],
        [
         "12",
         "CUST000013",
         "Male",
         "0.0",
         "No",
         "Yes",
         "52.0",
         "Yes",
         "DSL",
         "112.09",
         "5812.92",
         "No",
         null
        ],
        [
         "13",
         "CUST000014",
         null,
         "0.0",
         "No",
         "No",
         "44.0",
         "Yes",
         "No",
         "82.92",
         "3637.42",
         "Yes",
         "06-10-2021"
        ],
        [
         "14",
         "CUST000015",
         "Female",
         null,
         "No",
         null,
         "72.0",
         "Yes",
         "Fiber optic",
         "26.28",
         "1922.38",
         "No",
         null
        ],
        [
         "15",
         "CUST000016",
         "Male",
         "0.0",
         "No",
         "No",
         null,
         "Yes",
         "Fiber optic",
         "86.24",
         "3849.34",
         "Yes",
         "20-01-2022"
        ],
        [
         "16",
         "CUST000017",
         "Female",
         "0.0",
         "Yes",
         "No",
         "17.0",
         "No",
         "Fiber optic",
         "61.14",
         null,
         "Yes",
         "02-09-2022"
        ],
        [
         "17",
         "CUST000018",
         "Female",
         "0.0",
         "Yes",
         "No",
         "16.0",
         "Yes",
         "No",
         "55.04",
         "875.91",
         "Yes",
         "16-11-2020"
        ],
        [
         "18",
         "CUST000019",
         "Female",
         "0.0",
         null,
         "No",
         "30.0",
         "Yes",
         "Fiber optic",
         "57.65",
         "1698.42",
         "No",
         "15-02-2020"
        ],
        [
         "19",
         "CUST000020",
         "Male",
         "0.0",
         "No",
         "No",
         "43.0",
         "No",
         null,
         "51.56",
         "2263.86",
         "No",
         "01-11-2020"
        ],
        [
         "20",
         "CUST000021",
         "Female",
         "0.0",
         "Yes",
         "No",
         "63.0",
         "Yes",
         "DSL",
         "98.23",
         "6149.2",
         "No",
         "23-07-2020"
        ],
        [
         "21",
         "CUST000022",
         "Male",
         "0.0",
         "Yes",
         "No",
         "66.0",
         null,
         null,
         "34.06",
         "2267.81",
         "No",
         "07-08-2020"
        ],
        [
         "22",
         "CUST000023",
         "Female",
         "0.0",
         "No",
         "No",
         null,
         null,
         "DSL",
         "78.78",
         "5336.07",
         "No",
         null
        ],
        [
         "23",
         "CUST000024",
         "Female",
         "0.0",
         "No",
         "No",
         null,
         "Yes",
         "DSL",
         null,
         "1261.42",
         "No",
         "28-06-2020"
        ],
        [
         "24",
         "CUST000025",
         "Female",
         "0.0",
         "Yes",
         "Yes",
         "70.0",
         "Yes",
         null,
         "106.43",
         "7483.56",
         "No",
         null
        ],
        [
         "25",
         "CUST000026",
         "Female",
         "0.0",
         "No",
         "Yes",
         "11.0",
         "Yes",
         null,
         "89.05",
         "945.66",
         "Yes",
         null
        ],
        [
         "26",
         "CUST000027",
         "Female",
         "0.0",
         "Yes",
         "No",
         "21.0",
         "Yes",
         null,
         "44.81",
         "928.32",
         "No",
         "06-07-2021"
        ],
        [
         "27",
         "CUST000028",
         "Female",
         "0.0",
         "No",
         "Yes",
         "55.0",
         "Yes",
         "No",
         null,
         null,
         "No",
         "04-09-2021"
        ],
        [
         "28",
         "CUST000029",
         null,
         "0.0",
         "Yes",
         "Yes",
         "66.0",
         "No",
         "Fiber optic",
         "74.86",
         "4952.91",
         "No",
         "16-05-2020"
        ],
        [
         "29",
         "CUST000030",
         null,
         "0.0",
         "No",
         null,
         "42.0",
         "No",
         "Fiber optic",
         null,
         "1669.68",
         "No",
         "24-06-2021"
        ],
        [
         "30",
         "CUST000031",
         "Male",
         "0.0",
         "Yes",
         "No",
         "6.0",
         "Yes",
         "Fiber optic",
         "36.69",
         "250.74",
         "No",
         "11-06-2020"
        ],
        [
         "31",
         "CUST000032",
         "Male",
         "0.0",
         "Yes",
         "No",
         "11.0",
         "Yes",
         "Fiber optic",
         null,
         null,
         "No",
         "07-08-2022"
        ],
        [
         "32",
         "CUST000033",
         "Female",
         "1.0",
         "Yes",
         "No",
         "33.0",
         "Yes",
         "No",
         "56.11",
         "1830.61",
         "Yes",
         "03-01-2020"
        ],
        [
         "33",
         "CUST000034",
         null,
         "0.0",
         "Yes",
         "No",
         null,
         "Yes",
         "Fiber optic",
         "104.76",
         "3346.8",
         "Yes",
         "20-01-2021"
        ],
        [
         "34",
         "CUST000035",
         "Female",
         "1.0",
         "No",
         "No",
         "67.0",
         "No",
         "No",
         "48.7",
         "3231.59",
         "No",
         null
        ],
        [
         "35",
         "CUST000036",
         "Male",
         "0.0",
         "Yes",
         "No",
         "34.0",
         null,
         "DSL",
         "109.6",
         "3705.69",
         "No",
         "17-06-2022"
        ],
        [
         "36",
         "CUST000037",
         "Female",
         "0.0",
         "No",
         "No",
         "14.0",
         "No",
         "DSL",
         "46.84",
         null,
         "No",
         "10-04-2022"
        ],
        [
         "37",
         "CUST000038",
         "Male",
         "0.0",
         null,
         "No",
         "35.0",
         null,
         "Fiber optic",
         "94.45",
         "3268.68",
         "No",
         "15-09-2020"
        ],
        [
         "38",
         "CUST000039",
         "Male",
         null,
         "Yes",
         null,
         "62.0",
         "Yes",
         "DSL",
         "75.77",
         "4651.3",
         "No",
         "20-05-2021"
        ],
        [
         "39",
         "CUST000040",
         "Male",
         "0.0",
         "No",
         null,
         "62.0",
         null,
         "DSL",
         "76.52",
         null,
         "Yes",
         "07-02-2020"
        ],
        [
         "40",
         "CUST000041",
         "Male",
         "0.0",
         null,
         "No",
         "26.0",
         "Yes",
         "Fiber optic",
         "27.58",
         "707.02",
         "No",
         "31-03-2022"
        ],
        [
         "41",
         "CUST000042",
         "Male",
         "0.0",
         "Yes",
         "No",
         "45.0",
         "No",
         "Fiber optic",
         null,
         "2074.15",
         "No",
         "19-09-2022"
        ],
        [
         "42",
         "CUST000043",
         "Female",
         "0.0",
         "No",
         "No",
         "7.0",
         "Yes",
         "DSL",
         null,
         "432.32",
         "Yes",
         "19-12-2021"
        ],
        [
         "43",
         "CUST000044",
         null,
         null,
         null,
         "Yes",
         "34.0",
         "Yes",
         "Fiber optic",
         "47.82",
         "1609.63",
         "Yes",
         null
        ],
        [
         "44",
         "CUST000045",
         "Female",
         "0.0",
         "No",
         "No",
         "1.0",
         null,
         "No",
         "63.18",
         null,
         "No",
         "18-01-2022"
        ],
        [
         "45",
         "CUST000046",
         "Female",
         "0.0",
         "No",
         null,
         null,
         "Yes",
         null,
         "60.74",
         "3109.15",
         "No",
         "28-02-2022"
        ],
        [
         "46",
         "CUST000047",
         null,
         "0.0",
         "No",
         "No",
         "30.0",
         "Yes",
         "DSL",
         "78.71",
         null,
         "No",
         "10-06-2022"
        ],
        [
         "47",
         "CUST000048",
         "Male",
         "0.0",
         "No",
         "No",
         "40.0",
         "No",
         "No",
         "64.27",
         "2534.1",
         "Yes",
         "09-08-2022"
        ],
        [
         "48",
         "CUST000049",
         "Female",
         "0.0",
         "No",
         "Yes",
         "15.0",
         "Yes",
         "DSL",
         "55.5",
         "869.04",
         "Yes",
         "07-06-2020"
        ],
        [
         "49",
         "CUST000050",
         "Female",
         "0.0",
         "No",
         "No",
         "66.0",
         "Yes",
         "Fiber optic",
         "60.18",
         "3958.6",
         "No",
         "30-11-2021"
        ]
       ],
       "shape": {
        "columns": 12,
        "rows": 100000
       }
      },
      "text/html": [
       "<div>\n",
       "<style scoped>\n",
       "    .dataframe tbody tr th:only-of-type {\n",
       "        vertical-align: middle;\n",
       "    }\n",
       "\n",
       "    .dataframe tbody tr th {\n",
       "        vertical-align: top;\n",
       "    }\n",
       "\n",
       "    .dataframe thead th {\n",
       "        text-align: right;\n",
       "    }\n",
       "</style>\n",
       "<table border=\"1\" class=\"dataframe\">\n",
       "  <thead>\n",
       "    <tr style=\"text-align: right;\">\n",
       "      <th></th>\n",
       "      <th>CustomerID</th>\n",
       "      <th>Gender</th>\n",
       "      <th>SeniorCitizen</th>\n",
       "      <th>Partner</th>\n",
       "      <th>Dependents</th>\n",
       "      <th>Tenure</th>\n",
       "      <th>PhoneService</th>\n",
       "      <th>InternetService</th>\n",
       "      <th>MonthlyCharges</th>\n",
       "      <th>TotalCharges</th>\n",
       "      <th>Churn</th>\n",
       "      <th>Timestamp</th>\n",
       "    </tr>\n",
       "  </thead>\n",
       "  <tbody>\n",
       "    <tr>\n",
       "      <th>0</th>\n",
       "      <td>CUST000001</td>\n",
       "      <td>Male</td>\n",
       "      <td>0.0</td>\n",
       "      <td>Yes</td>\n",
       "      <td>Yes</td>\n",
       "      <td>26.0</td>\n",
       "      <td>Yes</td>\n",
       "      <td>Fiber optic</td>\n",
       "      <td>70.32</td>\n",
       "      <td>NaN</td>\n",
       "      <td>No</td>\n",
       "      <td>26-10-2021</td>\n",
       "    </tr>\n",
       "    <tr>\n",
       "      <th>1</th>\n",
       "      <td>CUST000002</td>\n",
       "      <td>Female</td>\n",
       "      <td>0.0</td>\n",
       "      <td>No</td>\n",
       "      <td>No</td>\n",
       "      <td>NaN</td>\n",
       "      <td>Yes</td>\n",
       "      <td>Fiber optic</td>\n",
       "      <td>47.88</td>\n",
       "      <td>2161.36</td>\n",
       "      <td>Yes</td>\n",
       "      <td>03-04-2022</td>\n",
       "    </tr>\n",
       "    <tr>\n",
       "      <th>2</th>\n",
       "      <td>CUST000003</td>\n",
       "      <td>Male</td>\n",
       "      <td>0.0</td>\n",
       "      <td>No</td>\n",
       "      <td>Yes</td>\n",
       "      <td>NaN</td>\n",
       "      <td>Yes</td>\n",
       "      <td>NaN</td>\n",
       "      <td>99.91</td>\n",
       "      <td>4224.95</td>\n",
       "      <td>Yes</td>\n",
       "      <td>03-05-2021</td>\n",
       "    </tr>\n",
       "    <tr>\n",
       "      <th>3</th>\n",
       "      <td>CUST000004</td>\n",
       "      <td>Male</td>\n",
       "      <td>NaN</td>\n",
       "      <td>No</td>\n",
       "      <td>No</td>\n",
       "      <td>44.0</td>\n",
       "      <td>Yes</td>\n",
       "      <td>DSL</td>\n",
       "      <td>29.44</td>\n",
       "      <td>1340.09</td>\n",
       "      <td>No</td>\n",
       "      <td>18-08-2021</td>\n",
       "    </tr>\n",
       "    <tr>\n",
       "      <th>4</th>\n",
       "      <td>CUST000005</td>\n",
       "      <td>NaN</td>\n",
       "      <td>0.0</td>\n",
       "      <td>No</td>\n",
       "      <td>Yes</td>\n",
       "      <td>29.0</td>\n",
       "      <td>NaN</td>\n",
       "      <td>Fiber optic</td>\n",
       "      <td>78.82</td>\n",
       "      <td>2280.05</td>\n",
       "      <td>No</td>\n",
       "      <td>17-02-2022</td>\n",
       "    </tr>\n",
       "    <tr>\n",
       "      <th>...</th>\n",
       "      <td>...</td>\n",
       "      <td>...</td>\n",
       "      <td>...</td>\n",
       "      <td>...</td>\n",
       "      <td>...</td>\n",
       "      <td>...</td>\n",
       "      <td>...</td>\n",
       "      <td>...</td>\n",
       "      <td>...</td>\n",
       "      <td>...</td>\n",
       "      <td>...</td>\n",
       "      <td>...</td>\n",
       "    </tr>\n",
       "    <tr>\n",
       "      <th>99995</th>\n",
       "      <td>CUST099996</td>\n",
       "      <td>Male</td>\n",
       "      <td>0.0</td>\n",
       "      <td>No</td>\n",
       "      <td>Yes</td>\n",
       "      <td>53.0</td>\n",
       "      <td>Yes</td>\n",
       "      <td>NaN</td>\n",
       "      <td>26.52</td>\n",
       "      <td>NaN</td>\n",
       "      <td>No</td>\n",
       "      <td>09-12-2021</td>\n",
       "    </tr>\n",
       "    <tr>\n",
       "      <th>99996</th>\n",
       "      <td>CUST099997</td>\n",
       "      <td>NaN</td>\n",
       "      <td>0.0</td>\n",
       "      <td>Yes</td>\n",
       "      <td>No</td>\n",
       "      <td>61.0</td>\n",
       "      <td>Yes</td>\n",
       "      <td>Fiber optic</td>\n",
       "      <td>NaN</td>\n",
       "      <td>3534.35</td>\n",
       "      <td>No</td>\n",
       "      <td>09-12-2020</td>\n",
       "    </tr>\n",
       "    <tr>\n",
       "      <th>99997</th>\n",
       "      <td>CUST099998</td>\n",
       "      <td>NaN</td>\n",
       "      <td>0.0</td>\n",
       "      <td>No</td>\n",
       "      <td>No</td>\n",
       "      <td>41.0</td>\n",
       "      <td>NaN</td>\n",
       "      <td>NaN</td>\n",
       "      <td>NaN</td>\n",
       "      <td>4739</td>\n",
       "      <td>No</td>\n",
       "      <td>08-09-2021</td>\n",
       "    </tr>\n",
       "    <tr>\n",
       "      <th>99998</th>\n",
       "      <td>CUST099999</td>\n",
       "      <td>NaN</td>\n",
       "      <td>NaN</td>\n",
       "      <td>Yes</td>\n",
       "      <td>Yes</td>\n",
       "      <td>9.0</td>\n",
       "      <td>Yes</td>\n",
       "      <td>NaN</td>\n",
       "      <td>57.20</td>\n",
       "      <td>526.29</td>\n",
       "      <td>Yes</td>\n",
       "      <td>11-02-2021</td>\n",
       "    </tr>\n",
       "    <tr>\n",
       "      <th>99999</th>\n",
       "      <td>CUST100000</td>\n",
       "      <td>Female</td>\n",
       "      <td>0.0</td>\n",
       "      <td>NaN</td>\n",
       "      <td>NaN</td>\n",
       "      <td>57.0</td>\n",
       "      <td>Yes</td>\n",
       "      <td>No</td>\n",
       "      <td>76.16</td>\n",
       "      <td>4320.35</td>\n",
       "      <td>Yes</td>\n",
       "      <td>23-01-2021</td>\n",
       "    </tr>\n",
       "  </tbody>\n",
       "</table>\n",
       "<p>100000 rows × 12 columns</p>\n",
       "</div>"
      ],
      "text/plain": [
       "       CustomerID  Gender  SeniorCitizen Partner Dependents  Tenure  \\\n",
       "0      CUST000001    Male            0.0     Yes        Yes    26.0   \n",
       "1      CUST000002  Female            0.0      No         No     NaN   \n",
       "2      CUST000003    Male            0.0      No        Yes     NaN   \n",
       "3      CUST000004    Male            NaN      No         No    44.0   \n",
       "4      CUST000005     NaN            0.0      No        Yes    29.0   \n",
       "...           ...     ...            ...     ...        ...     ...   \n",
       "99995  CUST099996    Male            0.0      No        Yes    53.0   \n",
       "99996  CUST099997     NaN            0.0     Yes         No    61.0   \n",
       "99997  CUST099998     NaN            0.0      No         No    41.0   \n",
       "99998  CUST099999     NaN            NaN     Yes        Yes     9.0   \n",
       "99999  CUST100000  Female            0.0     NaN        NaN    57.0   \n",
       "\n",
       "      PhoneService InternetService  MonthlyCharges TotalCharges Churn  \\\n",
       "0              Yes     Fiber optic           70.32          NaN    No   \n",
       "1              Yes     Fiber optic           47.88      2161.36   Yes   \n",
       "2              Yes             NaN           99.91      4224.95   Yes   \n",
       "3              Yes             DSL           29.44      1340.09    No   \n",
       "4              NaN     Fiber optic           78.82      2280.05    No   \n",
       "...            ...             ...             ...          ...   ...   \n",
       "99995          Yes             NaN           26.52          NaN    No   \n",
       "99996          Yes     Fiber optic             NaN      3534.35    No   \n",
       "99997          NaN             NaN             NaN         4739    No   \n",
       "99998          Yes             NaN           57.20       526.29   Yes   \n",
       "99999          Yes              No           76.16      4320.35   Yes   \n",
       "\n",
       "        Timestamp  \n",
       "0      26-10-2021  \n",
       "1      03-04-2022  \n",
       "2      03-05-2021  \n",
       "3      18-08-2021  \n",
       "4      17-02-2022  \n",
       "...           ...  \n",
       "99995  09-12-2021  \n",
       "99996  09-12-2020  \n",
       "99997  08-09-2021  \n",
       "99998  11-02-2021  \n",
       "99999  23-01-2021  \n",
       "\n",
       "[100000 rows x 12 columns]"
      ]
     },
     "execution_count": 8,
     "metadata": {},
     "output_type": "execute_result"
    }
   ],
   "source": [
    "df = pd.read_csv(\"telecom_churn.csv\")\n",
    "df"
   ]
  },
  {
   "cell_type": "code",
   "execution_count": 9,
   "id": "7190fd13",
   "metadata": {},
   "outputs": [],
   "source": [
    "df_churn = df.copy()"
   ]
  },
  {
   "cell_type": "markdown",
   "id": "2ad64f08",
   "metadata": {},
   "source": [
    "> 2. Initial Cleaning"
   ]
  },
  {
   "cell_type": "code",
   "execution_count": 10,
   "id": "95835ded",
   "metadata": {},
   "outputs": [
    {
     "data": {
      "application/vnd.microsoft.datawrangler.viewer.v0+json": {
       "columns": [
        {
         "name": "index",
         "rawType": "object",
         "type": "string"
        },
        {
         "name": "0",
         "rawType": "object",
         "type": "string"
        }
       ],
       "ref": "aa125ad9-d6b5-4764-a574-113c4fafdff1",
       "rows": [
        [
         "CustomerID",
         "object"
        ],
        [
         "Gender",
         "object"
        ],
        [
         "SeniorCitizen",
         "float64"
        ],
        [
         "Partner",
         "object"
        ],
        [
         "Dependents",
         "object"
        ],
        [
         "Tenure",
         "float64"
        ],
        [
         "PhoneService",
         "object"
        ],
        [
         "InternetService",
         "object"
        ],
        [
         "MonthlyCharges",
         "float64"
        ],
        [
         "TotalCharges",
         "object"
        ],
        [
         "Churn",
         "object"
        ],
        [
         "Timestamp",
         "object"
        ]
       ],
       "shape": {
        "columns": 1,
        "rows": 12
       }
      },
      "text/plain": [
       "CustomerID          object\n",
       "Gender              object\n",
       "SeniorCitizen      float64\n",
       "Partner             object\n",
       "Dependents          object\n",
       "Tenure             float64\n",
       "PhoneService        object\n",
       "InternetService     object\n",
       "MonthlyCharges     float64\n",
       "TotalCharges        object\n",
       "Churn               object\n",
       "Timestamp           object\n",
       "dtype: object"
      ]
     },
     "execution_count": 10,
     "metadata": {},
     "output_type": "execute_result"
    }
   ],
   "source": [
    "df_churn.dtypes"
   ]
  },
  {
   "cell_type": "markdown",
   "id": "73862493",
   "metadata": {},
   "source": [
    ">> 2.1 missing values"
   ]
  },
  {
   "cell_type": "code",
   "execution_count": 11,
   "id": "f166b195",
   "metadata": {},
   "outputs": [
    {
     "name": "stdout",
     "output_type": "stream",
     "text": [
      "Data type after conversion: float64\n"
     ]
    }
   ],
   "source": [
    "# converting 'TotalCharges' to numeric, coercing errors to NaN\n",
    "df_churn['TotalCharges'] = pd.to_numeric(df_churn['TotalCharges'], errors='coerce')\n",
    "print(\"Data type after conversion:\", df_churn['TotalCharges'].dtype)\n"
   ]
  },
  {
   "cell_type": "code",
   "execution_count": 12,
   "id": "70a2d12f",
   "metadata": {},
   "outputs": [
    {
     "name": "stdout",
     "output_type": "stream",
     "text": [
      "Number of missing values after imputation: 0\n"
     ]
    },
    {
     "data": {
      "application/vnd.microsoft.datawrangler.viewer.v0+json": {
       "columns": [
        {
         "name": "index",
         "rawType": "int64",
         "type": "integer"
        },
        {
         "name": "TotalCharges",
         "rawType": "float64",
         "type": "float"
        }
       ],
       "ref": "d2318dac-d0f6-492a-aaf5-524c93b8f462",
       "rows": [
        [
         "0",
         "2465.772221284741"
        ],
        [
         "1",
         "2161.36"
        ],
        [
         "2",
         "4224.95"
        ],
        [
         "3",
         "1340.09"
        ],
        [
         "4",
         "2280.05"
        ],
        [
         "5",
         "3448.78"
        ],
        [
         "6",
         "1838.4"
        ],
        [
         "7",
         "3101.47"
        ],
        [
         "8",
         "2465.772221284741"
        ],
        [
         "9",
         "4735.31"
        ],
        [
         "10",
         "1967.38"
        ],
        [
         "11",
         "1761.7"
        ],
        [
         "12",
         "5812.92"
        ],
        [
         "13",
         "3637.42"
        ],
        [
         "14",
         "1922.38"
        ],
        [
         "15",
         "3849.34"
        ],
        [
         "16",
         "2465.772221284741"
        ],
        [
         "17",
         "875.91"
        ],
        [
         "18",
         "1698.42"
        ],
        [
         "19",
         "2263.86"
        ],
        [
         "20",
         "6149.2"
        ],
        [
         "21",
         "2267.81"
        ],
        [
         "22",
         "5336.07"
        ],
        [
         "23",
         "1261.42"
        ],
        [
         "24",
         "7483.56"
        ],
        [
         "25",
         "945.66"
        ],
        [
         "26",
         "928.32"
        ],
        [
         "27",
         "2465.772221284741"
        ],
        [
         "28",
         "4952.91"
        ],
        [
         "29",
         "1669.68"
        ],
        [
         "30",
         "250.74"
        ],
        [
         "31",
         "2465.772221284741"
        ],
        [
         "32",
         "1830.61"
        ],
        [
         "33",
         "3346.8"
        ],
        [
         "34",
         "3231.59"
        ],
        [
         "35",
         "3705.69"
        ],
        [
         "36",
         "2465.772221284741"
        ],
        [
         "37",
         "3268.68"
        ],
        [
         "38",
         "4651.3"
        ],
        [
         "39",
         "2465.772221284741"
        ],
        [
         "40",
         "707.02"
        ],
        [
         "41",
         "2074.15"
        ],
        [
         "42",
         "432.32"
        ],
        [
         "43",
         "1609.63"
        ],
        [
         "44",
         "2465.772221284741"
        ],
        [
         "45",
         "3109.15"
        ],
        [
         "46",
         "2465.772221284741"
        ],
        [
         "47",
         "2534.1"
        ],
        [
         "48",
         "869.04"
        ],
        [
         "49",
         "3958.6"
        ]
       ],
       "shape": {
        "columns": 1,
        "rows": 100000
       }
      },
      "text/plain": [
       "0        2465.772221\n",
       "1        2161.360000\n",
       "2        4224.950000\n",
       "3        1340.090000\n",
       "4        2280.050000\n",
       "            ...     \n",
       "99995    2465.772221\n",
       "99996    3534.350000\n",
       "99997    4739.000000\n",
       "99998     526.290000\n",
       "99999    4320.350000\n",
       "Name: TotalCharges, Length: 100000, dtype: float64"
      ]
     },
     "execution_count": 12,
     "metadata": {},
     "output_type": "execute_result"
    }
   ],
   "source": [
    "# data type is float now, we can impute missing values with mean\n",
    "mean_total_charges = df_churn['TotalCharges'].mean()\n",
    "df_churn['TotalCharges'].fillna(mean_total_charges, inplace=True)\n",
    "print(\"Number of missing values after imputation:\", df_churn['TotalCharges'].isnull().sum())\n",
    "df_churn.TotalCharges"
   ]
  },
  {
   "cell_type": "markdown",
   "id": "e6f5a6e7",
   "metadata": {},
   "source": [
    ">> 2.2 Colummns with missing values"
   ]
  },
  {
   "cell_type": "code",
   "execution_count": 13,
   "id": "0caf9e10",
   "metadata": {},
   "outputs": [
    {
     "data": {
      "application/vnd.microsoft.datawrangler.viewer.v0+json": {
       "columns": [
        {
         "name": "index",
         "rawType": "object",
         "type": "string"
        },
        {
         "name": "0",
         "rawType": "int64",
         "type": "integer"
        }
       ],
       "ref": "93c29868-6dec-41ba-a69a-bc0257b3f991",
       "rows": [
        [
         "CustomerID",
         "0"
        ],
        [
         "Gender",
         "18213"
        ],
        [
         "SeniorCitizen",
         "18139"
        ],
        [
         "Partner",
         "18006"
        ],
        [
         "Dependents",
         "17997"
        ],
        [
         "Tenure",
         "17999"
        ],
        [
         "PhoneService",
         "17904"
        ],
        [
         "InternetService",
         "18421"
        ],
        [
         "MonthlyCharges",
         "18096"
        ],
        [
         "TotalCharges",
         "0"
        ],
        [
         "Churn",
         "0"
        ],
        [
         "Timestamp",
         "18243"
        ]
       ],
       "shape": {
        "columns": 1,
        "rows": 12
       }
      },
      "text/plain": [
       "CustomerID             0\n",
       "Gender             18213\n",
       "SeniorCitizen      18139\n",
       "Partner            18006\n",
       "Dependents         17997\n",
       "Tenure             17999\n",
       "PhoneService       17904\n",
       "InternetService    18421\n",
       "MonthlyCharges     18096\n",
       "TotalCharges           0\n",
       "Churn                  0\n",
       "Timestamp          18243\n",
       "dtype: int64"
      ]
     },
     "execution_count": 13,
     "metadata": {},
     "output_type": "execute_result"
    }
   ],
   "source": [
    "df_churn.isna().sum()"
   ]
  },
  {
   "cell_type": "code",
   "execution_count": 14,
   "id": "3a2c7ba7",
   "metadata": {},
   "outputs": [
    {
     "data": {
      "application/vnd.microsoft.datawrangler.viewer.v0+json": {
       "columns": [
        {
         "name": "index",
         "rawType": "object",
         "type": "string"
        },
        {
         "name": "0",
         "rawType": "float64",
         "type": "float"
        }
       ],
       "ref": "5a3dd9a9-2fd2-466a-81d2-18fc1f6a2d4e",
       "rows": [
        [
         "CustomerID",
         "0.0"
        ],
        [
         "Gender",
         "18.212999999999997"
        ],
        [
         "SeniorCitizen",
         "18.139"
        ],
        [
         "Partner",
         "18.006"
        ],
        [
         "Dependents",
         "17.997"
        ],
        [
         "Tenure",
         "17.999000000000002"
        ],
        [
         "PhoneService",
         "17.904"
        ],
        [
         "InternetService",
         "18.421000000000003"
        ],
        [
         "MonthlyCharges",
         "18.096"
        ],
        [
         "TotalCharges",
         "0.0"
        ],
        [
         "Churn",
         "0.0"
        ],
        [
         "Timestamp",
         "18.243000000000002"
        ]
       ],
       "shape": {
        "columns": 1,
        "rows": 12
       }
      },
      "text/plain": [
       "CustomerID          0.000\n",
       "Gender             18.213\n",
       "SeniorCitizen      18.139\n",
       "Partner            18.006\n",
       "Dependents         17.997\n",
       "Tenure             17.999\n",
       "PhoneService       17.904\n",
       "InternetService    18.421\n",
       "MonthlyCharges     18.096\n",
       "TotalCharges        0.000\n",
       "Churn               0.000\n",
       "Timestamp          18.243\n",
       "dtype: float64"
      ]
     },
     "execution_count": 14,
     "metadata": {},
     "output_type": "execute_result"
    }
   ],
   "source": [
    "# analyzing percentage of missing values in each column\n",
    "missing_percentage = df_churn.isna().mean() * 100\n",
    "missing_percentage"
   ]
  },
  {
   "cell_type": "code",
   "execution_count": 15,
   "id": "8d9d6ec6",
   "metadata": {},
   "outputs": [],
   "source": [
    "# droppping 'customerID' and timestamp column as it is not useful for analysis\n",
    "df_churn.drop(columns=['CustomerID'], inplace=True)\n",
    "df_churn.drop(columns=['Timestamp'], inplace=True)"
   ]
  },
  {
   "cell_type": "code",
   "execution_count": 16,
   "id": "f0fc3141",
   "metadata": {},
   "outputs": [
    {
     "data": {
      "application/vnd.microsoft.datawrangler.viewer.v0+json": {
       "columns": [
        {
         "name": "index",
         "rawType": "int64",
         "type": "integer"
        },
        {
         "name": "Gender",
         "rawType": "object",
         "type": "string"
        },
        {
         "name": "SeniorCitizen",
         "rawType": "float64",
         "type": "float"
        },
        {
         "name": "Partner",
         "rawType": "object",
         "type": "string"
        },
        {
         "name": "Dependents",
         "rawType": "object",
         "type": "string"
        },
        {
         "name": "Tenure",
         "rawType": "float64",
         "type": "float"
        },
        {
         "name": "PhoneService",
         "rawType": "object",
         "type": "string"
        },
        {
         "name": "InternetService",
         "rawType": "object",
         "type": "string"
        },
        {
         "name": "MonthlyCharges",
         "rawType": "float64",
         "type": "float"
        },
        {
         "name": "TotalCharges",
         "rawType": "float64",
         "type": "float"
        },
        {
         "name": "Churn",
         "rawType": "object",
         "type": "string"
        }
       ],
       "ref": "0d51eb17-1121-4518-9935-0fddc5a3c137",
       "rows": [
        [
         "0",
         "Male",
         "0.0",
         "Yes",
         "Yes",
         "26.0",
         "Yes",
         "Fiber optic",
         "70.32",
         "2465.772221284741",
         "No"
        ],
        [
         "1",
         "Female",
         "0.0",
         "No",
         "No",
         null,
         "Yes",
         "Fiber optic",
         "47.88",
         "2161.36",
         "Yes"
        ],
        [
         "2",
         "Male",
         "0.0",
         "No",
         "Yes",
         null,
         "Yes",
         null,
         "99.91",
         "4224.95",
         "Yes"
        ],
        [
         "3",
         "Male",
         null,
         "No",
         "No",
         "44.0",
         "Yes",
         "DSL",
         "29.44",
         "1340.09",
         "No"
        ],
        [
         "4",
         null,
         "0.0",
         "No",
         "Yes",
         "29.0",
         null,
         "Fiber optic",
         "78.82",
         "2280.05",
         "No"
        ],
        [
         "5",
         "Female",
         "0.0",
         "No",
         "Yes",
         "51.0",
         "Yes",
         "Fiber optic",
         "67.69",
         "3448.78",
         "No"
        ],
        [
         "6",
         "Male",
         "0.0",
         "No",
         "No",
         null,
         "Yes",
         null,
         "29.1",
         "1838.4",
         "No"
        ],
        [
         "7",
         "Male",
         "0.0",
         null,
         null,
         "32.0",
         "Yes",
         "DSL",
         "98.4",
         "3101.47",
         "Yes"
        ],
        [
         "8",
         "Male",
         "0.0",
         "No",
         null,
         "15.0",
         "Yes",
         null,
         "48.37",
         "2465.772221284741",
         "No"
        ],
        [
         "9",
         "Female",
         "0.0",
         "No",
         "Yes",
         null,
         "Yes",
         "DSL",
         "72.3",
         "4735.31",
         "No"
        ],
        [
         "10",
         "Male",
         null,
         "Yes",
         null,
         "56.0",
         "Yes",
         null,
         "34.51",
         "1967.38",
         "No"
        ],
        [
         "11",
         "Male",
         "0.0",
         "Yes",
         "Yes",
         "28.0",
         "Yes",
         "Fiber optic",
         "61.7",
         "1761.7",
         "No"
        ],
        [
         "12",
         "Male",
         "0.0",
         "No",
         "Yes",
         "52.0",
         "Yes",
         "DSL",
         "112.09",
         "5812.92",
         "No"
        ],
        [
         "13",
         null,
         "0.0",
         "No",
         "No",
         "44.0",
         "Yes",
         "No",
         "82.92",
         "3637.42",
         "Yes"
        ],
        [
         "14",
         "Female",
         null,
         "No",
         null,
         "72.0",
         "Yes",
         "Fiber optic",
         "26.28",
         "1922.38",
         "No"
        ],
        [
         "15",
         "Male",
         "0.0",
         "No",
         "No",
         null,
         "Yes",
         "Fiber optic",
         "86.24",
         "3849.34",
         "Yes"
        ],
        [
         "16",
         "Female",
         "0.0",
         "Yes",
         "No",
         "17.0",
         "No",
         "Fiber optic",
         "61.14",
         "2465.772221284741",
         "Yes"
        ],
        [
         "17",
         "Female",
         "0.0",
         "Yes",
         "No",
         "16.0",
         "Yes",
         "No",
         "55.04",
         "875.91",
         "Yes"
        ],
        [
         "18",
         "Female",
         "0.0",
         null,
         "No",
         "30.0",
         "Yes",
         "Fiber optic",
         "57.65",
         "1698.42",
         "No"
        ],
        [
         "19",
         "Male",
         "0.0",
         "No",
         "No",
         "43.0",
         "No",
         null,
         "51.56",
         "2263.86",
         "No"
        ],
        [
         "20",
         "Female",
         "0.0",
         "Yes",
         "No",
         "63.0",
         "Yes",
         "DSL",
         "98.23",
         "6149.2",
         "No"
        ],
        [
         "21",
         "Male",
         "0.0",
         "Yes",
         "No",
         "66.0",
         null,
         null,
         "34.06",
         "2267.81",
         "No"
        ],
        [
         "22",
         "Female",
         "0.0",
         "No",
         "No",
         null,
         null,
         "DSL",
         "78.78",
         "5336.07",
         "No"
        ],
        [
         "23",
         "Female",
         "0.0",
         "No",
         "No",
         null,
         "Yes",
         "DSL",
         null,
         "1261.42",
         "No"
        ],
        [
         "24",
         "Female",
         "0.0",
         "Yes",
         "Yes",
         "70.0",
         "Yes",
         null,
         "106.43",
         "7483.56",
         "No"
        ],
        [
         "25",
         "Female",
         "0.0",
         "No",
         "Yes",
         "11.0",
         "Yes",
         null,
         "89.05",
         "945.66",
         "Yes"
        ],
        [
         "26",
         "Female",
         "0.0",
         "Yes",
         "No",
         "21.0",
         "Yes",
         null,
         "44.81",
         "928.32",
         "No"
        ],
        [
         "27",
         "Female",
         "0.0",
         "No",
         "Yes",
         "55.0",
         "Yes",
         "No",
         null,
         "2465.772221284741",
         "No"
        ],
        [
         "28",
         null,
         "0.0",
         "Yes",
         "Yes",
         "66.0",
         "No",
         "Fiber optic",
         "74.86",
         "4952.91",
         "No"
        ],
        [
         "29",
         null,
         "0.0",
         "No",
         null,
         "42.0",
         "No",
         "Fiber optic",
         null,
         "1669.68",
         "No"
        ],
        [
         "30",
         "Male",
         "0.0",
         "Yes",
         "No",
         "6.0",
         "Yes",
         "Fiber optic",
         "36.69",
         "250.74",
         "No"
        ],
        [
         "31",
         "Male",
         "0.0",
         "Yes",
         "No",
         "11.0",
         "Yes",
         "Fiber optic",
         null,
         "2465.772221284741",
         "No"
        ],
        [
         "32",
         "Female",
         "1.0",
         "Yes",
         "No",
         "33.0",
         "Yes",
         "No",
         "56.11",
         "1830.61",
         "Yes"
        ],
        [
         "33",
         null,
         "0.0",
         "Yes",
         "No",
         null,
         "Yes",
         "Fiber optic",
         "104.76",
         "3346.8",
         "Yes"
        ],
        [
         "34",
         "Female",
         "1.0",
         "No",
         "No",
         "67.0",
         "No",
         "No",
         "48.7",
         "3231.59",
         "No"
        ],
        [
         "35",
         "Male",
         "0.0",
         "Yes",
         "No",
         "34.0",
         null,
         "DSL",
         "109.6",
         "3705.69",
         "No"
        ],
        [
         "36",
         "Female",
         "0.0",
         "No",
         "No",
         "14.0",
         "No",
         "DSL",
         "46.84",
         "2465.772221284741",
         "No"
        ],
        [
         "37",
         "Male",
         "0.0",
         null,
         "No",
         "35.0",
         null,
         "Fiber optic",
         "94.45",
         "3268.68",
         "No"
        ],
        [
         "38",
         "Male",
         null,
         "Yes",
         null,
         "62.0",
         "Yes",
         "DSL",
         "75.77",
         "4651.3",
         "No"
        ],
        [
         "39",
         "Male",
         "0.0",
         "No",
         null,
         "62.0",
         null,
         "DSL",
         "76.52",
         "2465.772221284741",
         "Yes"
        ],
        [
         "40",
         "Male",
         "0.0",
         null,
         "No",
         "26.0",
         "Yes",
         "Fiber optic",
         "27.58",
         "707.02",
         "No"
        ],
        [
         "41",
         "Male",
         "0.0",
         "Yes",
         "No",
         "45.0",
         "No",
         "Fiber optic",
         null,
         "2074.15",
         "No"
        ],
        [
         "42",
         "Female",
         "0.0",
         "No",
         "No",
         "7.0",
         "Yes",
         "DSL",
         null,
         "432.32",
         "Yes"
        ],
        [
         "43",
         null,
         null,
         null,
         "Yes",
         "34.0",
         "Yes",
         "Fiber optic",
         "47.82",
         "1609.63",
         "Yes"
        ],
        [
         "44",
         "Female",
         "0.0",
         "No",
         "No",
         "1.0",
         null,
         "No",
         "63.18",
         "2465.772221284741",
         "No"
        ],
        [
         "45",
         "Female",
         "0.0",
         "No",
         null,
         null,
         "Yes",
         null,
         "60.74",
         "3109.15",
         "No"
        ],
        [
         "46",
         null,
         "0.0",
         "No",
         "No",
         "30.0",
         "Yes",
         "DSL",
         "78.71",
         "2465.772221284741",
         "No"
        ],
        [
         "47",
         "Male",
         "0.0",
         "No",
         "No",
         "40.0",
         "No",
         "No",
         "64.27",
         "2534.1",
         "Yes"
        ],
        [
         "48",
         "Female",
         "0.0",
         "No",
         "Yes",
         "15.0",
         "Yes",
         "DSL",
         "55.5",
         "869.04",
         "Yes"
        ],
        [
         "49",
         "Female",
         "0.0",
         "No",
         "No",
         "66.0",
         "Yes",
         "Fiber optic",
         "60.18",
         "3958.6",
         "No"
        ]
       ],
       "shape": {
        "columns": 10,
        "rows": 100000
       }
      },
      "text/html": [
       "<div>\n",
       "<style scoped>\n",
       "    .dataframe tbody tr th:only-of-type {\n",
       "        vertical-align: middle;\n",
       "    }\n",
       "\n",
       "    .dataframe tbody tr th {\n",
       "        vertical-align: top;\n",
       "    }\n",
       "\n",
       "    .dataframe thead th {\n",
       "        text-align: right;\n",
       "    }\n",
       "</style>\n",
       "<table border=\"1\" class=\"dataframe\">\n",
       "  <thead>\n",
       "    <tr style=\"text-align: right;\">\n",
       "      <th></th>\n",
       "      <th>Gender</th>\n",
       "      <th>SeniorCitizen</th>\n",
       "      <th>Partner</th>\n",
       "      <th>Dependents</th>\n",
       "      <th>Tenure</th>\n",
       "      <th>PhoneService</th>\n",
       "      <th>InternetService</th>\n",
       "      <th>MonthlyCharges</th>\n",
       "      <th>TotalCharges</th>\n",
       "      <th>Churn</th>\n",
       "    </tr>\n",
       "  </thead>\n",
       "  <tbody>\n",
       "    <tr>\n",
       "      <th>0</th>\n",
       "      <td>Male</td>\n",
       "      <td>0.0</td>\n",
       "      <td>Yes</td>\n",
       "      <td>Yes</td>\n",
       "      <td>26.0</td>\n",
       "      <td>Yes</td>\n",
       "      <td>Fiber optic</td>\n",
       "      <td>70.32</td>\n",
       "      <td>2465.772221</td>\n",
       "      <td>No</td>\n",
       "    </tr>\n",
       "    <tr>\n",
       "      <th>1</th>\n",
       "      <td>Female</td>\n",
       "      <td>0.0</td>\n",
       "      <td>No</td>\n",
       "      <td>No</td>\n",
       "      <td>NaN</td>\n",
       "      <td>Yes</td>\n",
       "      <td>Fiber optic</td>\n",
       "      <td>47.88</td>\n",
       "      <td>2161.360000</td>\n",
       "      <td>Yes</td>\n",
       "    </tr>\n",
       "    <tr>\n",
       "      <th>2</th>\n",
       "      <td>Male</td>\n",
       "      <td>0.0</td>\n",
       "      <td>No</td>\n",
       "      <td>Yes</td>\n",
       "      <td>NaN</td>\n",
       "      <td>Yes</td>\n",
       "      <td>NaN</td>\n",
       "      <td>99.91</td>\n",
       "      <td>4224.950000</td>\n",
       "      <td>Yes</td>\n",
       "    </tr>\n",
       "    <tr>\n",
       "      <th>3</th>\n",
       "      <td>Male</td>\n",
       "      <td>NaN</td>\n",
       "      <td>No</td>\n",
       "      <td>No</td>\n",
       "      <td>44.0</td>\n",
       "      <td>Yes</td>\n",
       "      <td>DSL</td>\n",
       "      <td>29.44</td>\n",
       "      <td>1340.090000</td>\n",
       "      <td>No</td>\n",
       "    </tr>\n",
       "    <tr>\n",
       "      <th>4</th>\n",
       "      <td>NaN</td>\n",
       "      <td>0.0</td>\n",
       "      <td>No</td>\n",
       "      <td>Yes</td>\n",
       "      <td>29.0</td>\n",
       "      <td>NaN</td>\n",
       "      <td>Fiber optic</td>\n",
       "      <td>78.82</td>\n",
       "      <td>2280.050000</td>\n",
       "      <td>No</td>\n",
       "    </tr>\n",
       "    <tr>\n",
       "      <th>...</th>\n",
       "      <td>...</td>\n",
       "      <td>...</td>\n",
       "      <td>...</td>\n",
       "      <td>...</td>\n",
       "      <td>...</td>\n",
       "      <td>...</td>\n",
       "      <td>...</td>\n",
       "      <td>...</td>\n",
       "      <td>...</td>\n",
       "      <td>...</td>\n",
       "    </tr>\n",
       "    <tr>\n",
       "      <th>99995</th>\n",
       "      <td>Male</td>\n",
       "      <td>0.0</td>\n",
       "      <td>No</td>\n",
       "      <td>Yes</td>\n",
       "      <td>53.0</td>\n",
       "      <td>Yes</td>\n",
       "      <td>NaN</td>\n",
       "      <td>26.52</td>\n",
       "      <td>2465.772221</td>\n",
       "      <td>No</td>\n",
       "    </tr>\n",
       "    <tr>\n",
       "      <th>99996</th>\n",
       "      <td>NaN</td>\n",
       "      <td>0.0</td>\n",
       "      <td>Yes</td>\n",
       "      <td>No</td>\n",
       "      <td>61.0</td>\n",
       "      <td>Yes</td>\n",
       "      <td>Fiber optic</td>\n",
       "      <td>NaN</td>\n",
       "      <td>3534.350000</td>\n",
       "      <td>No</td>\n",
       "    </tr>\n",
       "    <tr>\n",
       "      <th>99997</th>\n",
       "      <td>NaN</td>\n",
       "      <td>0.0</td>\n",
       "      <td>No</td>\n",
       "      <td>No</td>\n",
       "      <td>41.0</td>\n",
       "      <td>NaN</td>\n",
       "      <td>NaN</td>\n",
       "      <td>NaN</td>\n",
       "      <td>4739.000000</td>\n",
       "      <td>No</td>\n",
       "    </tr>\n",
       "    <tr>\n",
       "      <th>99998</th>\n",
       "      <td>NaN</td>\n",
       "      <td>NaN</td>\n",
       "      <td>Yes</td>\n",
       "      <td>Yes</td>\n",
       "      <td>9.0</td>\n",
       "      <td>Yes</td>\n",
       "      <td>NaN</td>\n",
       "      <td>57.20</td>\n",
       "      <td>526.290000</td>\n",
       "      <td>Yes</td>\n",
       "    </tr>\n",
       "    <tr>\n",
       "      <th>99999</th>\n",
       "      <td>Female</td>\n",
       "      <td>0.0</td>\n",
       "      <td>NaN</td>\n",
       "      <td>NaN</td>\n",
       "      <td>57.0</td>\n",
       "      <td>Yes</td>\n",
       "      <td>No</td>\n",
       "      <td>76.16</td>\n",
       "      <td>4320.350000</td>\n",
       "      <td>Yes</td>\n",
       "    </tr>\n",
       "  </tbody>\n",
       "</table>\n",
       "<p>100000 rows × 10 columns</p>\n",
       "</div>"
      ],
      "text/plain": [
       "       Gender  SeniorCitizen Partner Dependents  Tenure PhoneService  \\\n",
       "0        Male            0.0     Yes        Yes    26.0          Yes   \n",
       "1      Female            0.0      No         No     NaN          Yes   \n",
       "2        Male            0.0      No        Yes     NaN          Yes   \n",
       "3        Male            NaN      No         No    44.0          Yes   \n",
       "4         NaN            0.0      No        Yes    29.0          NaN   \n",
       "...       ...            ...     ...        ...     ...          ...   \n",
       "99995    Male            0.0      No        Yes    53.0          Yes   \n",
       "99996     NaN            0.0     Yes         No    61.0          Yes   \n",
       "99997     NaN            0.0      No         No    41.0          NaN   \n",
       "99998     NaN            NaN     Yes        Yes     9.0          Yes   \n",
       "99999  Female            0.0     NaN        NaN    57.0          Yes   \n",
       "\n",
       "      InternetService  MonthlyCharges  TotalCharges Churn  \n",
       "0         Fiber optic           70.32   2465.772221    No  \n",
       "1         Fiber optic           47.88   2161.360000   Yes  \n",
       "2                 NaN           99.91   4224.950000   Yes  \n",
       "3                 DSL           29.44   1340.090000    No  \n",
       "4         Fiber optic           78.82   2280.050000    No  \n",
       "...               ...             ...           ...   ...  \n",
       "99995             NaN           26.52   2465.772221    No  \n",
       "99996     Fiber optic             NaN   3534.350000    No  \n",
       "99997             NaN             NaN   4739.000000    No  \n",
       "99998             NaN           57.20    526.290000   Yes  \n",
       "99999              No           76.16   4320.350000   Yes  \n",
       "\n",
       "[100000 rows x 10 columns]"
      ]
     },
     "execution_count": 16,
     "metadata": {},
     "output_type": "execute_result"
    }
   ],
   "source": [
    "df_churn"
   ]
  },
  {
   "cell_type": "markdown",
   "id": "d96a0af9",
   "metadata": {},
   "source": [
    "> 3. Data Visualization"
   ]
  },
  {
   "cell_type": "code",
   "execution_count": 17,
   "id": "339814e0",
   "metadata": {},
   "outputs": [],
   "source": [
    "import seaborn as sns\n",
    "import matplotlib.pyplot as plt"
   ]
  },
  {
   "cell_type": "markdown",
   "id": "b2e807cf",
   "metadata": {},
   "source": [
    ">> 3.1 realtionship between features and target"
   ]
  },
  {
   "cell_type": "code",
   "execution_count": 18,
   "id": "0df6a819",
   "metadata": {},
   "outputs": [
    {
     "name": "stdout",
     "output_type": "stream",
     "text": [
      "Histogram of Total Charges vs Churn\n"
     ]
    },
    {
     "data": {
      "image/png": "[encoded data removed]",
      "text/plain": [
       "<Figure size 640x480 with 1 Axes>"
      ]
     },
     "metadata": {},
     "output_type": "display_data"
    },
    {
     "name": "stdout",
     "output_type": "stream",
     "text": [
      "Count plot of Gender vs Churn\n"
     ]
    },
    {
     "data": {
      "image/png": "[encoded data removed]",
      "text/plain": [
       "<Figure size 640x480 with 1 Axes>"
      ]
     },
     "metadata": {},
     "output_type": "display_data"
    },
    {
     "name": "stdout",
     "output_type": "stream",
     "text": [
      "Histogram of Tenure vs Churn\n"
     ]
    },
    {
     "data": {
      "image/png": "[encoded data removed]",
      "text/plain": [
       "<Figure size 640x480 with 1 Axes>"
      ]
     },
     "metadata": {},
     "output_type": "display_data"
    },
    {
     "name": "stdout",
     "output_type": "stream",
     "text": [
      "Count plot of Internet Service vs Churn\n"
     ]
    },
    {
     "data": {
      "image/png": "[encoded data removed]",
      "text/plain": [
       "<Figure size 640x480 with 1 Axes>"
      ]
     },
     "metadata": {},
     "output_type": "display_data"
    }
   ],
   "source": [
    "# visualizing the relationship between 'TotalCharges' and 'Churn'\n",
    "print(\"Histogram of Total Charges vs Churn\")\n",
    "sns.histplot(data=df_churn, x='TotalCharges', hue='Churn', bins=10,palette='Set1')\n",
    "plt.title('TotalCharges vs Churn')\n",
    "plt.show()\n",
    "\n",
    "# visualizing the relationship between 'Gender' and 'Churn'\n",
    "print(\"Count plot of Gender vs Churn\")\n",
    "sns.countplot(x='Gender', hue='Churn', data=df_churn, palette='Set2')\n",
    "plt.title('Gender vs Churn')\n",
    "plt.show()\n",
    "\n",
    "# visualizing the relationship between 'Tenure' and 'Churn'\n",
    "print(\"Histogram of Tenure vs Churn\")\n",
    "sns.histplot(x='Tenure',hue = 'Churn', bins = 10, data=df_churn, palette='Set3')\n",
    "plt.title('Tenure vs Churn')\n",
    "plt.show()\n",
    "\n",
    "# visualizing the relationship between 'InternetService' and 'Churn'\n",
    "print(\"Count plot of Internet Service vs Churn\")\n",
    "sns.countplot(x='InternetService', hue='Churn', data=df_churn, palette='Set1')\n",
    "plt.title('Internet Service vs Churn')\n",
    "plt.show()"
   ]
  },
  {
   "cell_type": "markdown",
   "id": "81943606",
   "metadata": {},
   "source": [
    ">> 3.2 distribution of a numerical feature for churned vs non-churned customers"
   ]
  },
  {
   "cell_type": "code",
   "execution_count": 19,
   "id": "1f824869",
   "metadata": {},
   "outputs": [
    {
     "name": "stdout",
     "output_type": "stream",
     "text": [
      "Showing Distribution of churned vs non-churned customers based on TotalCharges\n"
     ]
    },
    {
     "data": {
      "image/png": "[encoded data removed]",
      "text/plain": [
       "<Figure size 640x480 with 1 Axes>"
      ]
     },
     "metadata": {},
     "output_type": "display_data"
    },
    {
     "name": "stdout",
     "output_type": "stream",
     "text": [
      "Showing Distribution of churned vs non-churned customers based on MonthlyCharges\n"
     ]
    },
    {
     "data": {
      "image/png": "[encoded data removed]",
      "text/plain": [
       "<Figure size 640x480 with 1 Axes>"
      ]
     },
     "metadata": {},
     "output_type": "display_data"
    }
   ],
   "source": [
    "# histogram\n",
    "print(\"Showing Distribution of churned vs non-churned customers based on TotalCharges\")\n",
    "sns.histplot(data=df_churn, x='TotalCharges', hue='Churn', bins=30, palette='Set1')\n",
    "plt.title('Distribution of TotalCharges for Churned vs Non-Churned Customers')\n",
    "plt.show()\n",
    "# kde plot\n",
    "print(\"Showing Distribution of churned vs non-churned customers based on MonthlyCharges\")\n",
    "sns.kdeplot(data=df_churn, x='MonthlyCharges', hue='Churn', palette='Set2')\n",
    "plt.title('Distribution of MonthlyCharges for Churned vs Non-Churned Customers')\n",
    "plt.show()"
   ]
  },
  {
   "cell_type": "markdown",
   "id": "39984c6f",
   "metadata": {},
   "source": [
    ">> 3.3 relationship between categorical feature and churn"
   ]
  },
  {
   "cell_type": "code",
   "execution_count": 20,
   "id": "2f4be6b3",
   "metadata": {},
   "outputs": [
    {
     "name": "stdout",
     "output_type": "stream",
     "text": [
      "Count plot of Internet Service vs Churn\n"
     ]
    },
    {
     "data": {
      "image/png": "[encoded data removed]",
      "text/plain": [
       "<Figure size 640x480 with 1 Axes>"
      ]
     },
     "metadata": {},
     "output_type": "display_data"
    },
    {
     "name": "stdout",
     "output_type": "stream",
     "text": [
      "Histogram of Dependent vs Churn\n"
     ]
    },
    {
     "data": {
      "image/png": "[encoded data removed]",
      "text/plain": [
       "<Figure size 640x480 with 1 Axes>"
      ]
     },
     "metadata": {},
     "output_type": "display_data"
    }
   ],
   "source": [
    "# count plot\n",
    "print(\"Count plot of Internet Service vs Churn\")\n",
    "sns.countplot(x='InternetService', hue='Churn', data=df_churn, palette='Set3')\n",
    "plt.title('InternetService vs Churn')\n",
    "plt.show()\n",
    "\n",
    "# histogram\n",
    "print(\"Histogram of Dependent vs Churn\")\n",
    "sns.histplot(data=df_churn, x='Dependents', hue='Churn', bins=10, palette='Set1')\n",
    "plt.title('Dependents vs Churn')\n",
    "plt.show()"
   ]
  },
  {
   "cell_type": "markdown",
   "id": "e2334852",
   "metadata": {},
   "source": [
    ">> 3.4 Key Findings --> while looking at the histogram of TotalCharges vs Churn,we can say that the  most of the customers are charged around 2000 and in that likely 35% of them churnes. Also, there are customers who pays more than 6000 and 8000. In case of Gender, its the same for both male and female around 10% churns. The Telecom company has minimum of 30% churning rate for any tenure."
   ]
  },
  {
   "cell_type": "markdown",
   "id": "7797160f",
   "metadata": {},
   "source": [
    "TASK_2: Feature Engineering"
   ]
  },
  {
   "cell_type": "code",
   "execution_count": 21,
   "id": "24d3b163",
   "metadata": {},
   "outputs": [
    {
     "data": {
      "application/vnd.microsoft.datawrangler.viewer.v0+json": {
       "columns": [
        {
         "name": "index",
         "rawType": "object",
         "type": "string"
        },
        {
         "name": "TotalCharges",
         "rawType": "float64",
         "type": "float"
        },
        {
         "name": "Tenure",
         "rawType": "float64",
         "type": "float"
        },
        {
         "name": "MonthlyCharges",
         "rawType": "float64",
         "type": "float"
        }
       ],
       "ref": "4162b3b0-d61d-4849-8475-1a0a43c42825",
       "rows": [
        [
         "TotalCharges",
         "1.0",
         "0.6802990489569433",
         "0.4932509401190809"
        ],
        [
         "Tenure",
         "0.6802990489569433",
         "1.0",
         "-0.0013592654858794126"
        ],
        [
         "MonthlyCharges",
         "0.4932509401190809",
         "-0.0013592654858794126",
         "1.0"
        ]
       ],
       "shape": {
        "columns": 3,
        "rows": 3
       }
      },
      "text/html": [
       "<div>\n",
       "<style scoped>\n",
       "    .dataframe tbody tr th:only-of-type {\n",
       "        vertical-align: middle;\n",
       "    }\n",
       "\n",
       "    .dataframe tbody tr th {\n",
       "        vertical-align: top;\n",
       "    }\n",
       "\n",
       "    .dataframe thead th {\n",
       "        text-align: right;\n",
       "    }\n",
       "</style>\n",
       "<table border=\"1\" class=\"dataframe\">\n",
       "  <thead>\n",
       "    <tr style=\"text-align: right;\">\n",
       "      <th></th>\n",
       "      <th>TotalCharges</th>\n",
       "      <th>Tenure</th>\n",
       "      <th>MonthlyCharges</th>\n",
       "    </tr>\n",
       "  </thead>\n",
       "  <tbody>\n",
       "    <tr>\n",
       "      <th>TotalCharges</th>\n",
       "      <td>1.000000</td>\n",
       "      <td>0.680299</td>\n",
       "      <td>0.493251</td>\n",
       "    </tr>\n",
       "    <tr>\n",
       "      <th>Tenure</th>\n",
       "      <td>0.680299</td>\n",
       "      <td>1.000000</td>\n",
       "      <td>-0.001359</td>\n",
       "    </tr>\n",
       "    <tr>\n",
       "      <th>MonthlyCharges</th>\n",
       "      <td>0.493251</td>\n",
       "      <td>-0.001359</td>\n",
       "      <td>1.000000</td>\n",
       "    </tr>\n",
       "  </tbody>\n",
       "</table>\n",
       "</div>"
      ],
      "text/plain": [
       "                TotalCharges    Tenure  MonthlyCharges\n",
       "TotalCharges        1.000000  0.680299        0.493251\n",
       "Tenure              0.680299  1.000000       -0.001359\n",
       "MonthlyCharges      0.493251 -0.001359        1.000000"
      ]
     },
     "execution_count": 21,
     "metadata": {},
     "output_type": "execute_result"
    }
   ],
   "source": [
    "# df_churn.info()\n",
    "# lets find correlation first\n",
    "\n",
    "df_churn[['TotalCharges', 'Tenure', 'MonthlyCharges']].corr()"
   ]
  },
  {
   "cell_type": "code",
   "execution_count": 22,
   "id": "4439664b",
   "metadata": {},
   "outputs": [
    {
     "data": {
      "application/vnd.microsoft.datawrangler.viewer.v0+json": {
       "columns": [
        {
         "name": "index",
         "rawType": "object",
         "type": "string"
        },
        {
         "name": "TotalCharges",
         "rawType": "float64",
         "type": "float"
        },
        {
         "name": "MonthlyCharges",
         "rawType": "float64",
         "type": "float"
        }
       ],
       "ref": "65a514f5-53f9-4127-bf15-44102c6e9b85",
       "rows": [
        [
         "TotalCharges",
         "1.0",
         "0.4932509401190809"
        ],
        [
         "MonthlyCharges",
         "0.4932509401190809",
         "1.0"
        ]
       ],
       "shape": {
        "columns": 2,
        "rows": 2
       }
      },
      "text/html": [
       "<div>\n",
       "<style scoped>\n",
       "    .dataframe tbody tr th:only-of-type {\n",
       "        vertical-align: middle;\n",
       "    }\n",
       "\n",
       "    .dataframe tbody tr th {\n",
       "        vertical-align: top;\n",
       "    }\n",
       "\n",
       "    .dataframe thead th {\n",
       "        text-align: right;\n",
       "    }\n",
       "</style>\n",
       "<table border=\"1\" class=\"dataframe\">\n",
       "  <thead>\n",
       "    <tr style=\"text-align: right;\">\n",
       "      <th></th>\n",
       "      <th>TotalCharges</th>\n",
       "      <th>MonthlyCharges</th>\n",
       "    </tr>\n",
       "  </thead>\n",
       "  <tbody>\n",
       "    <tr>\n",
       "      <th>TotalCharges</th>\n",
       "      <td>1.000000</td>\n",
       "      <td>0.493251</td>\n",
       "    </tr>\n",
       "    <tr>\n",
       "      <th>MonthlyCharges</th>\n",
       "      <td>0.493251</td>\n",
       "      <td>1.000000</td>\n",
       "    </tr>\n",
       "  </tbody>\n",
       "</table>\n",
       "</div>"
      ],
      "text/plain": [
       "                TotalCharges  MonthlyCharges\n",
       "TotalCharges        1.000000        0.493251\n",
       "MonthlyCharges      0.493251        1.000000"
      ]
     },
     "execution_count": 22,
     "metadata": {},
     "output_type": "execute_result"
    }
   ],
   "source": [
    "df_churn[['TotalCharges', 'MonthlyCharges']].corr()"
   ]
  },
  {
   "cell_type": "code",
   "execution_count": 23,
   "id": "ed162de6",
   "metadata": {},
   "outputs": [],
   "source": [
    "# average charges\n",
    "df_churn['AverageCharges'] = df_churn['TotalCharges'] / (df_churn['Tenure'] + 1)\n",
    "# finding new customers\n",
    "df_churn['NewCustomer'] = (df_churn['Tenure'] <= 3).astype(int)"
   ]
  },
  {
   "cell_type": "markdown",
   "id": "fb6d340a",
   "metadata": {},
   "source": [
    "TASK_3: Building End-to-End pipeline"
   ]
  },
  {
   "cell_type": "markdown",
   "id": "ec68b3bb",
   "metadata": {},
   "source": [
    "> 1. Preprocessing Steps"
   ]
  },
  {
   "cell_type": "code",
   "execution_count": 24,
   "id": "a2d9dd50",
   "metadata": {},
   "outputs": [],
   "source": [
    "from sklearn.compose import ColumnTransformer\n",
    "from sklearn.preprocessing import StandardScaler, OneHotEncoder\n",
    "from sklearn.pipeline import Pipeline\n",
    "from sklearn.impute import SimpleImputer"
   ]
  },
  {
   "cell_type": "markdown",
   "id": "d1a0ac18",
   "metadata": {},
   "source": [
    ">> 1.1 preprocessor using ColumnTransformer"
   ]
  },
  {
   "cell_type": "code",
   "execution_count": 25,
   "id": "b4ae8a2b",
   "metadata": {},
   "outputs": [
    {
     "name": "stdout",
     "output_type": "stream",
     "text": [
      "Numeric Columns are:  ['Tenure', 'MonthlyCharges', 'AverageCharges']\n",
      "Categorical Columns are:  ['Gender', 'SeniorCitizen', 'Partner', 'Dependents', 'PhoneService', 'InternetService', 'NewCustomer']\n"
     ]
    }
   ],
   "source": [
    "num_features = ['Tenure', 'MonthlyCharges', 'AverageCharges']\n",
    "cat_features = ['Gender', 'SeniorCitizen', 'Partner', 'Dependents', 'PhoneService', 'InternetService', 'NewCustomer']\n",
    "print(\"Numeric Columns are: \", num_features) \n",
    "print(\"Categorical Columns are: \", cat_features) "
   ]
  },
  {
   "cell_type": "markdown",
   "id": "4ca8c4c7",
   "metadata": {},
   "source": [
    ">> 1.2 & 1.3 Imputing missing values in num and cat columns"
   ]
  },
  {
   "cell_type": "code",
   "execution_count": 26,
   "id": "04be9f11",
   "metadata": {},
   "outputs": [],
   "source": [
    "numeric_trans = Pipeline(steps = [('imputer', SimpleImputer(strategy = 'median')), ('scaler', StandardScaler())])\n",
    "\n",
    "categorical_trans = Pipeline(steps = [('imputer', SimpleImputer(strategy = 'most_frequent')), ('onehot', OneHotEncoder(drop = 'first', handle_unknown = 'ignore'))])\n",
    "\n",
    "# columntransformer for different columns -\n",
    "preprocessor = ColumnTransformer(transformers = [('num', numeric_trans, num_features), ('cat', categorical_trans, cat_features)])"
   ]
  },
  {
   "cell_type": "code",
   "execution_count": 27,
   "id": "9f4d4f6e",
   "metadata": {},
   "outputs": [
    {
     "data": {
      "text/plain": [
       "0"
      ]
     },
     "execution_count": 27,
     "metadata": {},
     "output_type": "execute_result"
    }
   ],
   "source": [
    "df_transformed = preprocessor.fit_transform(df_churn)\n",
    "np.isnan(df_transformed).sum()"
   ]
  },
  {
   "cell_type": "markdown",
   "id": "b967320d",
   "metadata": {},
   "source": [
    ">> 1.4 droping irrelevant columns"
   ]
  },
  {
   "cell_type": "code",
   "execution_count": 28,
   "id": "8975428c",
   "metadata": {},
   "outputs": [],
   "source": [
    "df_churn.drop('TotalCharges', axis=1, inplace=True)"
   ]
  },
  {
   "cell_type": "markdown",
   "id": "24dec1a7",
   "metadata": {},
   "source": [
    "2. Integrate with Pipeline"
   ]
  },
  {
   "cell_type": "markdown",
   "id": "e96c4266",
   "metadata": {},
   "source": [
    "> 2.1 combining column trasnfer with a classifier"
   ]
  },
  {
   "cell_type": "code",
   "execution_count": 32,
   "id": "3ec266c7",
   "metadata": {},
   "outputs": [],
   "source": [
    "# lets go with logistic regrssion\n",
    "\n",
    "from sklearn.linear_model import LogisticRegression\n",
    "from sklearn.pipeline import Pipeline\n",
    "from sklearn.preprocessing import StandardScaler, OneHotEncoder\n",
    "from sklearn.model_selection import train_test_split\n",
    "from sklearn.metrics import accuracy_score, f1_score, confusion_matrix"
   ]
  },
  {
   "cell_type": "code",
   "execution_count": 33,
   "id": "2fc3f006",
   "metadata": {},
   "outputs": [
    {
     "data": {
      "text/html": [
       "<style>#sk-container-id-1 {color: black;}#sk-container-id-1 pre{padding: 0;}#sk-container-id-1 div.sk-toggleable {background-color: white;}#sk-container-id-1 label.sk-toggleable__label {cursor: pointer;display: block;width: 100%;margin-bottom: 0;padding: 0.3em;box-sizing: border-box;text-align: center;}#sk-container-id-1 label.sk-toggleable__label-arrow:before {content: \"▸\";float: left;margin-right: 0.25em;color: #696969;}#sk-container-id-1 label.sk-toggleable__label-arrow:hover:before {color: black;}#sk-container-id-1 div.sk-estimator:hover label.sk-toggleable__label-arrow:before {color: black;}#sk-container-id-1 div.sk-toggleable__content {max-height: 0;max-width: 0;overflow: hidden;text-align: left;background-color: #f0f8ff;}#sk-container-id-1 div.sk-toggleable__content pre {margin: 0.2em;color: black;border-radius: 0.25em;background-color: #f0f8ff;}#sk-container-id-1 input.sk-toggleable__control:checked~div.sk-toggleable__content {max-height: 200px;max-width: 100%;overflow: auto;}#sk-container-id-1 input.sk-toggleable__control:checked~label.sk-toggleable__label-arrow:before {content: \"▾\";}#sk-container-id-1 div.sk-estimator input.sk-toggleable__control:checked~label.sk-toggleable__label {background-color: #d4ebff;}#sk-container-id-1 div.sk-label input.sk-toggleable__control:checked~label.sk-toggleable__label {background-color: #d4ebff;}#sk-container-id-1 input.sk-hidden--visually {border: 0;clip: rect(1px 1px 1px 1px);clip: rect(1px, 1px, 1px, 1px);height: 1px;margin: -1px;overflow: hidden;padding: 0;position: absolute;width: 1px;}#sk-container-id-1 div.sk-estimator {font-family: monospace;background-color: #f0f8ff;border: 1px dotted black;border-radius: 0.25em;box-sizing: border-box;margin-bottom: 0.5em;}#sk-container-id-1 div.sk-estimator:hover {background-color: #d4ebff;}#sk-container-id-1 div.sk-parallel-item::after {content: \"\";width: 100%;border-bottom: 1px solid gray;flex-grow: 1;}#sk-container-id-1 div.sk-label:hover label.sk-toggleable__label {background-color: #d4ebff;}#sk-container-id-1 div.sk-serial::before {content: \"\";position: absolute;border-left: 1px solid gray;box-sizing: border-box;top: 0;bottom: 0;left: 50%;z-index: 0;}#sk-container-id-1 div.sk-serial {display: flex;flex-direction: column;align-items: center;background-color: white;padding-right: 0.2em;padding-left: 0.2em;position: relative;}#sk-container-id-1 div.sk-item {position: relative;z-index: 1;}#sk-container-id-1 div.sk-parallel {display: flex;align-items: stretch;justify-content: center;background-color: white;position: relative;}#sk-container-id-1 div.sk-item::before, #sk-container-id-1 div.sk-parallel-item::before {content: \"\";position: absolute;border-left: 1px solid gray;box-sizing: border-box;top: 0;bottom: 0;left: 50%;z-index: -1;}#sk-container-id-1 div.sk-parallel-item {display: flex;flex-direction: column;z-index: 1;position: relative;background-color: white;}#sk-container-id-1 div.sk-parallel-item:first-child::after {align-self: flex-end;width: 50%;}#sk-container-id-1 div.sk-parallel-item:last-child::after {align-self: flex-start;width: 50%;}#sk-container-id-1 div.sk-parallel-item:only-child::after {width: 0;}#sk-container-id-1 div.sk-dashed-wrapped {border: 1px dashed gray;margin: 0 0.4em 0.5em 0.4em;box-sizing: border-box;padding-bottom: 0.4em;background-color: white;}#sk-container-id-1 div.sk-label label {font-family: monospace;font-weight: bold;display: inline-block;line-height: 1.2em;}#sk-container-id-1 div.sk-label-container {text-align: center;}#sk-container-id-1 div.sk-container {/* jupyter's `normalize.less` sets `[hidden] { display: none; }` but bootstrap.min.css set `[hidden] { display: none !important; }` so we also need the `!important` here to be able to override the default hidden behavior on the sphinx rendered scikit-learn.org. See: https://github.com/scikit-learn/scikit-learn/issues/21755 */display: inline-block !important;position: relative;}#sk-container-id-1 div.sk-text-repr-fallback {display: none;}</style><div id=\"sk-container-id-1\" class=\"sk-top-container\"><div class=\"sk-text-repr-fallback\"><pre>Pipeline(steps=[(&#x27;preprocessor&#x27;,\n",
       "                 ColumnTransformer(transformers=[(&#x27;num&#x27;,\n",
       "                                                  Pipeline(steps=[(&#x27;imputer&#x27;,\n",
       "                                                                   SimpleImputer(strategy=&#x27;median&#x27;)),\n",
       "                                                                  (&#x27;scaler&#x27;,\n",
       "                                                                   StandardScaler())]),\n",
       "                                                  [&#x27;Tenure&#x27;, &#x27;MonthlyCharges&#x27;,\n",
       "                                                   &#x27;AverageCharges&#x27;]),\n",
       "                                                 (&#x27;cat&#x27;,\n",
       "                                                  Pipeline(steps=[(&#x27;imputer&#x27;,\n",
       "                                                                   SimpleImputer(strategy=&#x27;most_frequent&#x27;)),\n",
       "                                                                  (&#x27;onehot&#x27;,\n",
       "                                                                   OneHotEncoder(drop=&#x27;first&#x27;,\n",
       "                                                                                 handle_unknown=&#x27;ignore&#x27;))]),\n",
       "                                                  [&#x27;Gender&#x27;, &#x27;SeniorCitizen&#x27;,\n",
       "                                                   &#x27;Partner&#x27;, &#x27;Dependents&#x27;,\n",
       "                                                   &#x27;PhoneService&#x27;,\n",
       "                                                   &#x27;InternetService&#x27;,\n",
       "                                                   &#x27;NewCustomer&#x27;])])),\n",
       "                (&#x27;classifier&#x27;,\n",
       "                 LogisticRegression(class_weight=&#x27;balanced&#x27;,\n",
       "                                    solver=&#x27;liblinear&#x27;))])</pre><b>In a Jupyter environment, please rerun this cell to show the HTML representation or trust the notebook. <br />On GitHub, the HTML representation is unable to render, please try loading this page with nbviewer.org.</b></div><div class=\"sk-container\" hidden><div class=\"sk-item sk-dashed-wrapped\"><div class=\"sk-label-container\"><div class=\"sk-label sk-toggleable\"><input class=\"sk-toggleable__control sk-hidden--visually\" id=\"sk-estimator-id-1\" type=\"checkbox\" ><label for=\"sk-estimator-id-1\" class=\"sk-toggleable__label sk-toggleable__label-arrow\">Pipeline</label><div class=\"sk-toggleable__content\"><pre>Pipeline(steps=[(&#x27;preprocessor&#x27;,\n",
       "                 ColumnTransformer(transformers=[(&#x27;num&#x27;,\n",
       "                                                  Pipeline(steps=[(&#x27;imputer&#x27;,\n",
       "                                                                   SimpleImputer(strategy=&#x27;median&#x27;)),\n",
       "                                                                  (&#x27;scaler&#x27;,\n",
       "                                                                   StandardScaler())]),\n",
       "                                                  [&#x27;Tenure&#x27;, &#x27;MonthlyCharges&#x27;,\n",
       "                                                   &#x27;AverageCharges&#x27;]),\n",
       "                                                 (&#x27;cat&#x27;,\n",
       "                                                  Pipeline(steps=[(&#x27;imputer&#x27;,\n",
       "                                                                   SimpleImputer(strategy=&#x27;most_frequent&#x27;)),\n",
       "                                                                  (&#x27;onehot&#x27;,\n",
       "                                                                   OneHotEncoder(drop=&#x27;first&#x27;,\n",
       "                                                                                 handle_unknown=&#x27;ignore&#x27;))]),\n",
       "                                                  [&#x27;Gender&#x27;, &#x27;SeniorCitizen&#x27;,\n",
       "                                                   &#x27;Partner&#x27;, &#x27;Dependents&#x27;,\n",
       "                                                   &#x27;PhoneService&#x27;,\n",
       "                                                   &#x27;InternetService&#x27;,\n",
       "                                                   &#x27;NewCustomer&#x27;])])),\n",
       "                (&#x27;classifier&#x27;,\n",
       "                 LogisticRegression(class_weight=&#x27;balanced&#x27;,\n",
       "                                    solver=&#x27;liblinear&#x27;))])</pre></div></div></div><div class=\"sk-serial\"><div class=\"sk-item sk-dashed-wrapped\"><div class=\"sk-label-container\"><div class=\"sk-label sk-toggleable\"><input class=\"sk-toggleable__control sk-hidden--visually\" id=\"sk-estimator-id-2\" type=\"checkbox\" ><label for=\"sk-estimator-id-2\" class=\"sk-toggleable__label sk-toggleable__label-arrow\">preprocessor: ColumnTransformer</label><div class=\"sk-toggleable__content\"><pre>ColumnTransformer(transformers=[(&#x27;num&#x27;,\n",
       "                                 Pipeline(steps=[(&#x27;imputer&#x27;,\n",
       "                                                  SimpleImputer(strategy=&#x27;median&#x27;)),\n",
       "                                                 (&#x27;scaler&#x27;, StandardScaler())]),\n",
       "                                 [&#x27;Tenure&#x27;, &#x27;MonthlyCharges&#x27;,\n",
       "                                  &#x27;AverageCharges&#x27;]),\n",
       "                                (&#x27;cat&#x27;,\n",
       "                                 Pipeline(steps=[(&#x27;imputer&#x27;,\n",
       "                                                  SimpleImputer(strategy=&#x27;most_frequent&#x27;)),\n",
       "                                                 (&#x27;onehot&#x27;,\n",
       "                                                  OneHotEncoder(drop=&#x27;first&#x27;,\n",
       "                                                                handle_unknown=&#x27;ignore&#x27;))]),\n",
       "                                 [&#x27;Gender&#x27;, &#x27;SeniorCitizen&#x27;, &#x27;Partner&#x27;,\n",
       "                                  &#x27;Dependents&#x27;, &#x27;PhoneService&#x27;,\n",
       "                                  &#x27;InternetService&#x27;, &#x27;NewCustomer&#x27;])])</pre></div></div></div><div class=\"sk-parallel\"><div class=\"sk-parallel-item\"><div class=\"sk-item\"><div class=\"sk-label-container\"><div class=\"sk-label sk-toggleable\"><input class=\"sk-toggleable__control sk-hidden--visually\" id=\"sk-estimator-id-3\" type=\"checkbox\" ><label for=\"sk-estimator-id-3\" class=\"sk-toggleable__label sk-toggleable__label-arrow\">num</label><div class=\"sk-toggleable__content\"><pre>[&#x27;Tenure&#x27;, &#x27;MonthlyCharges&#x27;, &#x27;AverageCharges&#x27;]</pre></div></div></div><div class=\"sk-serial\"><div class=\"sk-item\"><div class=\"sk-serial\"><div class=\"sk-item\"><div class=\"sk-estimator sk-toggleable\"><input class=\"sk-toggleable__control sk-hidden--visually\" id=\"sk-estimator-id-4\" type=\"checkbox\" ><label for=\"sk-estimator-id-4\" class=\"sk-toggleable__label sk-toggleable__label-arrow\">SimpleImputer</label><div class=\"sk-toggleable__content\"><pre>SimpleImputer(strategy=&#x27;median&#x27;)</pre></div></div></div><div class=\"sk-item\"><div class=\"sk-estimator sk-toggleable\"><input class=\"sk-toggleable__control sk-hidden--visually\" id=\"sk-estimator-id-5\" type=\"checkbox\" ><label for=\"sk-estimator-id-5\" class=\"sk-toggleable__label sk-toggleable__label-arrow\">StandardScaler</label><div class=\"sk-toggleable__content\"><pre>StandardScaler()</pre></div></div></div></div></div></div></div></div><div class=\"sk-parallel-item\"><div class=\"sk-item\"><div class=\"sk-label-container\"><div class=\"sk-label sk-toggleable\"><input class=\"sk-toggleable__control sk-hidden--visually\" id=\"sk-estimator-id-6\" type=\"checkbox\" ><label for=\"sk-estimator-id-6\" class=\"sk-toggleable__label sk-toggleable__label-arrow\">cat</label><div class=\"sk-toggleable__content\"><pre>[&#x27;Gender&#x27;, &#x27;SeniorCitizen&#x27;, &#x27;Partner&#x27;, &#x27;Dependents&#x27;, &#x27;PhoneService&#x27;, &#x27;InternetService&#x27;, &#x27;NewCustomer&#x27;]</pre></div></div></div><div class=\"sk-serial\"><div class=\"sk-item\"><div class=\"sk-serial\"><div class=\"sk-item\"><div class=\"sk-estimator sk-toggleable\"><input class=\"sk-toggleable__control sk-hidden--visually\" id=\"sk-estimator-id-7\" type=\"checkbox\" ><label for=\"sk-estimator-id-7\" class=\"sk-toggleable__label sk-toggleable__label-arrow\">SimpleImputer</label><div class=\"sk-toggleable__content\"><pre>SimpleImputer(strategy=&#x27;most_frequent&#x27;)</pre></div></div></div><div class=\"sk-item\"><div class=\"sk-estimator sk-toggleable\"><input class=\"sk-toggleable__control sk-hidden--visually\" id=\"sk-estimator-id-8\" type=\"checkbox\" ><label for=\"sk-estimator-id-8\" class=\"sk-toggleable__label sk-toggleable__label-arrow\">OneHotEncoder</label><div class=\"sk-toggleable__content\"><pre>OneHotEncoder(drop=&#x27;first&#x27;, handle_unknown=&#x27;ignore&#x27;)</pre></div></div></div></div></div></div></div></div></div></div><div class=\"sk-item\"><div class=\"sk-estimator sk-toggleable\"><input class=\"sk-toggleable__control sk-hidden--visually\" id=\"sk-estimator-id-9\" type=\"checkbox\" ><label for=\"sk-estimator-id-9\" class=\"sk-toggleable__label sk-toggleable__label-arrow\">LogisticRegression</label><div class=\"sk-toggleable__content\"><pre>LogisticRegression(class_weight=&#x27;balanced&#x27;, solver=&#x27;liblinear&#x27;)</pre></div></div></div></div></div></div></div>"
      ],
      "text/plain": [
       "Pipeline(steps=[('preprocessor',\n",
       "                 ColumnTransformer(transformers=[('num',\n",
       "                                                  Pipeline(steps=[('imputer',\n",
       "                                                                   SimpleImputer(strategy='median')),\n",
       "                                                                  ('scaler',\n",
       "                                                                   StandardScaler())]),\n",
       "                                                  ['Tenure', 'MonthlyCharges',\n",
       "                                                   'AverageCharges']),\n",
       "                                                 ('cat',\n",
       "                                                  Pipeline(steps=[('imputer',\n",
       "                                                                   SimpleImputer(strategy='most_frequent')),\n",
       "                                                                  ('onehot',\n",
       "                                                                   OneHotEncoder(drop='first',\n",
       "                                                                                 handle_unknown='ignore'))]),\n",
       "                                                  ['Gender', 'SeniorCitizen',\n",
       "                                                   'Partner', 'Dependents',\n",
       "                                                   'PhoneService',\n",
       "                                                   'InternetService',\n",
       "                                                   'NewCustomer'])])),\n",
       "                ('classifier',\n",
       "                 LogisticRegression(class_weight='balanced',\n",
       "                                    solver='liblinear'))])"
      ]
     },
     "execution_count": 33,
     "metadata": {},
     "output_type": "execute_result"
    }
   ],
   "source": [
    "lr_pipeline = Pipeline(steps = [('preprocessor', preprocessor), ('classifier', LogisticRegression(solver='liblinear', class_weight='balanced'))])\n",
    "\n",
    "X = df_churn.drop('Churn', axis = 1)\n",
    "y = df_churn['Churn']\n",
    "\n",
    "lr_pipeline.fit(X, y)"
   ]
  },
  {
   "cell_type": "markdown",
   "id": "1c8b4769",
   "metadata": {},
   "source": [
    "> 2.2 training pipeline on the training data"
   ]
  },
  {
   "cell_type": "code",
   "execution_count": 34,
   "id": "4970df63",
   "metadata": {},
   "outputs": [],
   "source": [
    "X_train, X_test, y_train, y_test = train_test_split(X, y, test_size = 0.2, random_state=42, stratify=y)"
   ]
  },
  {
   "cell_type": "code",
   "execution_count": 35,
   "id": "91dee663",
   "metadata": {},
   "outputs": [
    {
     "data": {
      "text/html": [
       "<style>#sk-container-id-2 {color: black;}#sk-container-id-2 pre{padding: 0;}#sk-container-id-2 div.sk-toggleable {background-color: white;}#sk-container-id-2 label.sk-toggleable__label {cursor: pointer;display: block;width: 100%;margin-bottom: 0;padding: 0.3em;box-sizing: border-box;text-align: center;}#sk-container-id-2 label.sk-toggleable__label-arrow:before {content: \"▸\";float: left;margin-right: 0.25em;color: #696969;}#sk-container-id-2 label.sk-toggleable__label-arrow:hover:before {color: black;}#sk-container-id-2 div.sk-estimator:hover label.sk-toggleable__label-arrow:before {color: black;}#sk-container-id-2 div.sk-toggleable__content {max-height: 0;max-width: 0;overflow: hidden;text-align: left;background-color: #f0f8ff;}#sk-container-id-2 div.sk-toggleable__content pre {margin: 0.2em;color: black;border-radius: 0.25em;background-color: #f0f8ff;}#sk-container-id-2 input.sk-toggleable__control:checked~div.sk-toggleable__content {max-height: 200px;max-width: 100%;overflow: auto;}#sk-container-id-2 input.sk-toggleable__control:checked~label.sk-toggleable__label-arrow:before {content: \"▾\";}#sk-container-id-2 div.sk-estimator input.sk-toggleable__control:checked~label.sk-toggleable__label {background-color: #d4ebff;}#sk-container-id-2 div.sk-label input.sk-toggleable__control:checked~label.sk-toggleable__label {background-color: #d4ebff;}#sk-container-id-2 input.sk-hidden--visually {border: 0;clip: rect(1px 1px 1px 1px);clip: rect(1px, 1px, 1px, 1px);height: 1px;margin: -1px;overflow: hidden;padding: 0;position: absolute;width: 1px;}#sk-container-id-2 div.sk-estimator {font-family: monospace;background-color: #f0f8ff;border: 1px dotted black;border-radius: 0.25em;box-sizing: border-box;margin-bottom: 0.5em;}#sk-container-id-2 div.sk-estimator:hover {background-color: #d4ebff;}#sk-container-id-2 div.sk-parallel-item::after {content: \"\";width: 100%;border-bottom: 1px solid gray;flex-grow: 1;}#sk-container-id-2 div.sk-label:hover label.sk-toggleable__label {background-color: #d4ebff;}#sk-container-id-2 div.sk-serial::before {content: \"\";position: absolute;border-left: 1px solid gray;box-sizing: border-box;top: 0;bottom: 0;left: 50%;z-index: 0;}#sk-container-id-2 div.sk-serial {display: flex;flex-direction: column;align-items: center;background-color: white;padding-right: 0.2em;padding-left: 0.2em;position: relative;}#sk-container-id-2 div.sk-item {position: relative;z-index: 1;}#sk-container-id-2 div.sk-parallel {display: flex;align-items: stretch;justify-content: center;background-color: white;position: relative;}#sk-container-id-2 div.sk-item::before, #sk-container-id-2 div.sk-parallel-item::before {content: \"\";position: absolute;border-left: 1px solid gray;box-sizing: border-box;top: 0;bottom: 0;left: 50%;z-index: -1;}#sk-container-id-2 div.sk-parallel-item {display: flex;flex-direction: column;z-index: 1;position: relative;background-color: white;}#sk-container-id-2 div.sk-parallel-item:first-child::after {align-self: flex-end;width: 50%;}#sk-container-id-2 div.sk-parallel-item:last-child::after {align-self: flex-start;width: 50%;}#sk-container-id-2 div.sk-parallel-item:only-child::after {width: 0;}#sk-container-id-2 div.sk-dashed-wrapped {border: 1px dashed gray;margin: 0 0.4em 0.5em 0.4em;box-sizing: border-box;padding-bottom: 0.4em;background-color: white;}#sk-container-id-2 div.sk-label label {font-family: monospace;font-weight: bold;display: inline-block;line-height: 1.2em;}#sk-container-id-2 div.sk-label-container {text-align: center;}#sk-container-id-2 div.sk-container {/* jupyter's `normalize.less` sets `[hidden] { display: none; }` but bootstrap.min.css set `[hidden] { display: none !important; }` so we also need the `!important` here to be able to override the default hidden behavior on the sphinx rendered scikit-learn.org. See: https://github.com/scikit-learn/scikit-learn/issues/21755 */display: inline-block !important;position: relative;}#sk-container-id-2 div.sk-text-repr-fallback {display: none;}</style><div id=\"sk-container-id-2\" class=\"sk-top-container\"><div class=\"sk-text-repr-fallback\"><pre>Pipeline(steps=[(&#x27;preprocessor&#x27;,\n",
       "                 ColumnTransformer(transformers=[(&#x27;num&#x27;,\n",
       "                                                  Pipeline(steps=[(&#x27;imputer&#x27;,\n",
       "                                                                   SimpleImputer(strategy=&#x27;median&#x27;)),\n",
       "                                                                  (&#x27;scaler&#x27;,\n",
       "                                                                   StandardScaler())]),\n",
       "                                                  [&#x27;Tenure&#x27;, &#x27;MonthlyCharges&#x27;,\n",
       "                                                   &#x27;AverageCharges&#x27;]),\n",
       "                                                 (&#x27;cat&#x27;,\n",
       "                                                  Pipeline(steps=[(&#x27;imputer&#x27;,\n",
       "                                                                   SimpleImputer(strategy=&#x27;most_frequent&#x27;)),\n",
       "                                                                  (&#x27;onehot&#x27;,\n",
       "                                                                   OneHotEncoder(drop=&#x27;first&#x27;,\n",
       "                                                                                 handle_unknown=&#x27;ignore&#x27;))]),\n",
       "                                                  [&#x27;Gender&#x27;, &#x27;SeniorCitizen&#x27;,\n",
       "                                                   &#x27;Partner&#x27;, &#x27;Dependents&#x27;,\n",
       "                                                   &#x27;PhoneService&#x27;,\n",
       "                                                   &#x27;InternetService&#x27;,\n",
       "                                                   &#x27;NewCustomer&#x27;])])),\n",
       "                (&#x27;classifier&#x27;,\n",
       "                 LogisticRegression(class_weight=&#x27;balanced&#x27;,\n",
       "                                    solver=&#x27;liblinear&#x27;))])</pre><b>In a Jupyter environment, please rerun this cell to show the HTML representation or trust the notebook. <br />On GitHub, the HTML representation is unable to render, please try loading this page with nbviewer.org.</b></div><div class=\"sk-container\" hidden><div class=\"sk-item sk-dashed-wrapped\"><div class=\"sk-label-container\"><div class=\"sk-label sk-toggleable\"><input class=\"sk-toggleable__control sk-hidden--visually\" id=\"sk-estimator-id-10\" type=\"checkbox\" ><label for=\"sk-estimator-id-10\" class=\"sk-toggleable__label sk-toggleable__label-arrow\">Pipeline</label><div class=\"sk-toggleable__content\"><pre>Pipeline(steps=[(&#x27;preprocessor&#x27;,\n",
       "                 ColumnTransformer(transformers=[(&#x27;num&#x27;,\n",
       "                                                  Pipeline(steps=[(&#x27;imputer&#x27;,\n",
       "                                                                   SimpleImputer(strategy=&#x27;median&#x27;)),\n",
       "                                                                  (&#x27;scaler&#x27;,\n",
       "                                                                   StandardScaler())]),\n",
       "                                                  [&#x27;Tenure&#x27;, &#x27;MonthlyCharges&#x27;,\n",
       "                                                   &#x27;AverageCharges&#x27;]),\n",
       "                                                 (&#x27;cat&#x27;,\n",
       "                                                  Pipeline(steps=[(&#x27;imputer&#x27;,\n",
       "                                                                   SimpleImputer(strategy=&#x27;most_frequent&#x27;)),\n",
       "                                                                  (&#x27;onehot&#x27;,\n",
       "                                                                   OneHotEncoder(drop=&#x27;first&#x27;,\n",
       "                                                                                 handle_unknown=&#x27;ignore&#x27;))]),\n",
       "                                                  [&#x27;Gender&#x27;, &#x27;SeniorCitizen&#x27;,\n",
       "                                                   &#x27;Partner&#x27;, &#x27;Dependents&#x27;,\n",
       "                                                   &#x27;PhoneService&#x27;,\n",
       "                                                   &#x27;InternetService&#x27;,\n",
       "                                                   &#x27;NewCustomer&#x27;])])),\n",
       "                (&#x27;classifier&#x27;,\n",
       "                 LogisticRegression(class_weight=&#x27;balanced&#x27;,\n",
       "                                    solver=&#x27;liblinear&#x27;))])</pre></div></div></div><div class=\"sk-serial\"><div class=\"sk-item sk-dashed-wrapped\"><div class=\"sk-label-container\"><div class=\"sk-label sk-toggleable\"><input class=\"sk-toggleable__control sk-hidden--visually\" id=\"sk-estimator-id-11\" type=\"checkbox\" ><label for=\"sk-estimator-id-11\" class=\"sk-toggleable__label sk-toggleable__label-arrow\">preprocessor: ColumnTransformer</label><div class=\"sk-toggleable__content\"><pre>ColumnTransformer(transformers=[(&#x27;num&#x27;,\n",
       "                                 Pipeline(steps=[(&#x27;imputer&#x27;,\n",
       "                                                  SimpleImputer(strategy=&#x27;median&#x27;)),\n",
       "                                                 (&#x27;scaler&#x27;, StandardScaler())]),\n",
       "                                 [&#x27;Tenure&#x27;, &#x27;MonthlyCharges&#x27;,\n",
       "                                  &#x27;AverageCharges&#x27;]),\n",
       "                                (&#x27;cat&#x27;,\n",
       "                                 Pipeline(steps=[(&#x27;imputer&#x27;,\n",
       "                                                  SimpleImputer(strategy=&#x27;most_frequent&#x27;)),\n",
       "                                                 (&#x27;onehot&#x27;,\n",
       "                                                  OneHotEncoder(drop=&#x27;first&#x27;,\n",
       "                                                                handle_unknown=&#x27;ignore&#x27;))]),\n",
       "                                 [&#x27;Gender&#x27;, &#x27;SeniorCitizen&#x27;, &#x27;Partner&#x27;,\n",
       "                                  &#x27;Dependents&#x27;, &#x27;PhoneService&#x27;,\n",
       "                                  &#x27;InternetService&#x27;, &#x27;NewCustomer&#x27;])])</pre></div></div></div><div class=\"sk-parallel\"><div class=\"sk-parallel-item\"><div class=\"sk-item\"><div class=\"sk-label-container\"><div class=\"sk-label sk-toggleable\"><input class=\"sk-toggleable__control sk-hidden--visually\" id=\"sk-estimator-id-12\" type=\"checkbox\" ><label for=\"sk-estimator-id-12\" class=\"sk-toggleable__label sk-toggleable__label-arrow\">num</label><div class=\"sk-toggleable__content\"><pre>[&#x27;Tenure&#x27;, &#x27;MonthlyCharges&#x27;, &#x27;AverageCharges&#x27;]</pre></div></div></div><div class=\"sk-serial\"><div class=\"sk-item\"><div class=\"sk-serial\"><div class=\"sk-item\"><div class=\"sk-estimator sk-toggleable\"><input class=\"sk-toggleable__control sk-hidden--visually\" id=\"sk-estimator-id-13\" type=\"checkbox\" ><label for=\"sk-estimator-id-13\" class=\"sk-toggleable__label sk-toggleable__label-arrow\">SimpleImputer</label><div class=\"sk-toggleable__content\"><pre>SimpleImputer(strategy=&#x27;median&#x27;)</pre></div></div></div><div class=\"sk-item\"><div class=\"sk-estimator sk-toggleable\"><input class=\"sk-toggleable__control sk-hidden--visually\" id=\"sk-estimator-id-14\" type=\"checkbox\" ><label for=\"sk-estimator-id-14\" class=\"sk-toggleable__label sk-toggleable__label-arrow\">StandardScaler</label><div class=\"sk-toggleable__content\"><pre>StandardScaler()</pre></div></div></div></div></div></div></div></div><div class=\"sk-parallel-item\"><div class=\"sk-item\"><div class=\"sk-label-container\"><div class=\"sk-label sk-toggleable\"><input class=\"sk-toggleable__control sk-hidden--visually\" id=\"sk-estimator-id-15\" type=\"checkbox\" ><label for=\"sk-estimator-id-15\" class=\"sk-toggleable__label sk-toggleable__label-arrow\">cat</label><div class=\"sk-toggleable__content\"><pre>[&#x27;Gender&#x27;, &#x27;SeniorCitizen&#x27;, &#x27;Partner&#x27;, &#x27;Dependents&#x27;, &#x27;PhoneService&#x27;, &#x27;InternetService&#x27;, &#x27;NewCustomer&#x27;]</pre></div></div></div><div class=\"sk-serial\"><div class=\"sk-item\"><div class=\"sk-serial\"><div class=\"sk-item\"><div class=\"sk-estimator sk-toggleable\"><input class=\"sk-toggleable__control sk-hidden--visually\" id=\"sk-estimator-id-16\" type=\"checkbox\" ><label for=\"sk-estimator-id-16\" class=\"sk-toggleable__label sk-toggleable__label-arrow\">SimpleImputer</label><div class=\"sk-toggleable__content\"><pre>SimpleImputer(strategy=&#x27;most_frequent&#x27;)</pre></div></div></div><div class=\"sk-item\"><div class=\"sk-estimator sk-toggleable\"><input class=\"sk-toggleable__control sk-hidden--visually\" id=\"sk-estimator-id-17\" type=\"checkbox\" ><label for=\"sk-estimator-id-17\" class=\"sk-toggleable__label sk-toggleable__label-arrow\">OneHotEncoder</label><div class=\"sk-toggleable__content\"><pre>OneHotEncoder(drop=&#x27;first&#x27;, handle_unknown=&#x27;ignore&#x27;)</pre></div></div></div></div></div></div></div></div></div></div><div class=\"sk-item\"><div class=\"sk-estimator sk-toggleable\"><input class=\"sk-toggleable__control sk-hidden--visually\" id=\"sk-estimator-id-18\" type=\"checkbox\" ><label for=\"sk-estimator-id-18\" class=\"sk-toggleable__label sk-toggleable__label-arrow\">LogisticRegression</label><div class=\"sk-toggleable__content\"><pre>LogisticRegression(class_weight=&#x27;balanced&#x27;, solver=&#x27;liblinear&#x27;)</pre></div></div></div></div></div></div></div>"
      ],
      "text/plain": [
       "Pipeline(steps=[('preprocessor',\n",
       "                 ColumnTransformer(transformers=[('num',\n",
       "                                                  Pipeline(steps=[('imputer',\n",
       "                                                                   SimpleImputer(strategy='median')),\n",
       "                                                                  ('scaler',\n",
       "                                                                   StandardScaler())]),\n",
       "                                                  ['Tenure', 'MonthlyCharges',\n",
       "                                                   'AverageCharges']),\n",
       "                                                 ('cat',\n",
       "                                                  Pipeline(steps=[('imputer',\n",
       "                                                                   SimpleImputer(strategy='most_frequent')),\n",
       "                                                                  ('onehot',\n",
       "                                                                   OneHotEncoder(drop='first',\n",
       "                                                                                 handle_unknown='ignore'))]),\n",
       "                                                  ['Gender', 'SeniorCitizen',\n",
       "                                                   'Partner', 'Dependents',\n",
       "                                                   'PhoneService',\n",
       "                                                   'InternetService',\n",
       "                                                   'NewCustomer'])])),\n",
       "                ('classifier',\n",
       "                 LogisticRegression(class_weight='balanced',\n",
       "                                    solver='liblinear'))])"
      ]
     },
     "execution_count": 35,
     "metadata": {},
     "output_type": "execute_result"
    }
   ],
   "source": [
    "lr_pipeline.fit(X_train, y_train)"
   ]
  },
  {
   "cell_type": "code",
   "execution_count": 36,
   "id": "88151761",
   "metadata": {},
   "outputs": [],
   "source": [
    "y_pred = lr_pipeline.predict(X_test) "
   ]
  },
  {
   "cell_type": "code",
   "execution_count": 37,
   "id": "8fc79cb2",
   "metadata": {},
   "outputs": [
    {
     "name": "stdout",
     "output_type": "stream",
     "text": [
      "Accuracy of our training data is:  0.493225\n"
     ]
    }
   ],
   "source": [
    "# accuracy of our traiing data\n",
    "y_train_prediction = lr_pipeline.predict(X_train)\n",
    "acc=accuracy_score(y_train, y_train_prediction)\n",
    "print(\"Accuracy of our training data is: \", acc)"
   ]
  },
  {
   "cell_type": "markdown",
   "id": "b1593b18",
   "metadata": {},
   "source": [
    "TASK_4: Model Selection and Hyperparameter Tuning"
   ]
  },
  {
   "cell_type": "markdown",
   "id": "f99330ec",
   "metadata": {},
   "source": [
    "1. Choosing Models: LogisticRegression, RandomForest, GradientBoostingClassifier"
   ]
  },
  {
   "cell_type": "markdown",
   "id": "a875f96e",
   "metadata": {},
   "source": [
    "> Logistic Regression -->"
   ]
  },
  {
   "cell_type": "code",
   "execution_count": 38,
   "id": "71648207",
   "metadata": {},
   "outputs": [
    {
     "name": "stdout",
     "output_type": "stream",
     "text": [
      "Logistic Regression Accuracy: 0.4882\n",
      "Logistic Regression F1-score: 0.3481085212074895\n",
      "Confusion Matrix:\n",
      " [[7031 7760]\n",
      " [2476 2733]]\n"
     ]
    }
   ],
   "source": [
    "acc = accuracy_score(y_test, y_pred)\n",
    "f1 = f1_score(y_test, y_pred, pos_label='Yes')\n",
    "cm = confusion_matrix(y_test, y_pred)\n",
    "\n",
    "print(\"Logistic Regression Accuracy:\", acc)\n",
    "print(\"Logistic Regression F1-score:\", f1)\n",
    "print(\"Confusion Matrix:\\n\", cm)"
   ]
  },
  {
   "cell_type": "markdown",
   "id": "9f5323da",
   "metadata": {},
   "source": [
    "> Randome Forest -->"
   ]
  },
  {
   "cell_type": "code",
   "execution_count": 39,
   "id": "d480a573",
   "metadata": {},
   "outputs": [],
   "source": [
    "from sklearn.ensemble import RandomForestClassifier"
   ]
  },
  {
   "cell_type": "code",
   "execution_count": 40,
   "id": "a203af02",
   "metadata": {},
   "outputs": [
    {
     "data": {
      "text/html": [
       "<style>#sk-container-id-3 {color: black;}#sk-container-id-3 pre{padding: 0;}#sk-container-id-3 div.sk-toggleable {background-color: white;}#sk-container-id-3 label.sk-toggleable__label {cursor: pointer;display: block;width: 100%;margin-bottom: 0;padding: 0.3em;box-sizing: border-box;text-align: center;}#sk-container-id-3 label.sk-toggleable__label-arrow:before {content: \"▸\";float: left;margin-right: 0.25em;color: #696969;}#sk-container-id-3 label.sk-toggleable__label-arrow:hover:before {color: black;}#sk-container-id-3 div.sk-estimator:hover label.sk-toggleable__label-arrow:before {color: black;}#sk-container-id-3 div.sk-toggleable__content {max-height: 0;max-width: 0;overflow: hidden;text-align: left;background-color: #f0f8ff;}#sk-container-id-3 div.sk-toggleable__content pre {margin: 0.2em;color: black;border-radius: 0.25em;background-color: #f0f8ff;}#sk-container-id-3 input.sk-toggleable__control:checked~div.sk-toggleable__content {max-height: 200px;max-width: 100%;overflow: auto;}#sk-container-id-3 input.sk-toggleable__control:checked~label.sk-toggleable__label-arrow:before {content: \"▾\";}#sk-container-id-3 div.sk-estimator input.sk-toggleable__control:checked~label.sk-toggleable__label {background-color: #d4ebff;}#sk-container-id-3 div.sk-label input.sk-toggleable__control:checked~label.sk-toggleable__label {background-color: #d4ebff;}#sk-container-id-3 input.sk-hidden--visually {border: 0;clip: rect(1px 1px 1px 1px);clip: rect(1px, 1px, 1px, 1px);height: 1px;margin: -1px;overflow: hidden;padding: 0;position: absolute;width: 1px;}#sk-container-id-3 div.sk-estimator {font-family: monospace;background-color: #f0f8ff;border: 1px dotted black;border-radius: 0.25em;box-sizing: border-box;margin-bottom: 0.5em;}#sk-container-id-3 div.sk-estimator:hover {background-color: #d4ebff;}#sk-container-id-3 div.sk-parallel-item::after {content: \"\";width: 100%;border-bottom: 1px solid gray;flex-grow: 1;}#sk-container-id-3 div.sk-label:hover label.sk-toggleable__label {background-color: #d4ebff;}#sk-container-id-3 div.sk-serial::before {content: \"\";position: absolute;border-left: 1px solid gray;box-sizing: border-box;top: 0;bottom: 0;left: 50%;z-index: 0;}#sk-container-id-3 div.sk-serial {display: flex;flex-direction: column;align-items: center;background-color: white;padding-right: 0.2em;padding-left: 0.2em;position: relative;}#sk-container-id-3 div.sk-item {position: relative;z-index: 1;}#sk-container-id-3 div.sk-parallel {display: flex;align-items: stretch;justify-content: center;background-color: white;position: relative;}#sk-container-id-3 div.sk-item::before, #sk-container-id-3 div.sk-parallel-item::before {content: \"\";position: absolute;border-left: 1px solid gray;box-sizing: border-box;top: 0;bottom: 0;left: 50%;z-index: -1;}#sk-container-id-3 div.sk-parallel-item {display: flex;flex-direction: column;z-index: 1;position: relative;background-color: white;}#sk-container-id-3 div.sk-parallel-item:first-child::after {align-self: flex-end;width: 50%;}#sk-container-id-3 div.sk-parallel-item:last-child::after {align-self: flex-start;width: 50%;}#sk-container-id-3 div.sk-parallel-item:only-child::after {width: 0;}#sk-container-id-3 div.sk-dashed-wrapped {border: 1px dashed gray;margin: 0 0.4em 0.5em 0.4em;box-sizing: border-box;padding-bottom: 0.4em;background-color: white;}#sk-container-id-3 div.sk-label label {font-family: monospace;font-weight: bold;display: inline-block;line-height: 1.2em;}#sk-container-id-3 div.sk-label-container {text-align: center;}#sk-container-id-3 div.sk-container {/* jupyter's `normalize.less` sets `[hidden] { display: none; }` but bootstrap.min.css set `[hidden] { display: none !important; }` so we also need the `!important` here to be able to override the default hidden behavior on the sphinx rendered scikit-learn.org. See: https://github.com/scikit-learn/scikit-learn/issues/21755 */display: inline-block !important;position: relative;}#sk-container-id-3 div.sk-text-repr-fallback {display: none;}</style><div id=\"sk-container-id-3\" class=\"sk-top-container\"><div class=\"sk-text-repr-fallback\"><pre>Pipeline(steps=[(&#x27;preprocessor&#x27;,\n",
       "                 ColumnTransformer(transformers=[(&#x27;num&#x27;,\n",
       "                                                  Pipeline(steps=[(&#x27;imputer&#x27;,\n",
       "                                                                   SimpleImputer(strategy=&#x27;median&#x27;)),\n",
       "                                                                  (&#x27;scaler&#x27;,\n",
       "                                                                   StandardScaler())]),\n",
       "                                                  [&#x27;Tenure&#x27;, &#x27;MonthlyCharges&#x27;,\n",
       "                                                   &#x27;AverageCharges&#x27;]),\n",
       "                                                 (&#x27;cat&#x27;,\n",
       "                                                  Pipeline(steps=[(&#x27;imputer&#x27;,\n",
       "                                                                   SimpleImputer(strategy=&#x27;most_frequent&#x27;)),\n",
       "                                                                  (&#x27;onehot&#x27;,\n",
       "                                                                   OneHotEncoder(drop=&#x27;first&#x27;,\n",
       "                                                                                 handle_unknown=&#x27;ignore&#x27;))]),\n",
       "                                                  [&#x27;Gender&#x27;, &#x27;SeniorCitizen&#x27;,\n",
       "                                                   &#x27;Partner&#x27;, &#x27;Dependents&#x27;,\n",
       "                                                   &#x27;PhoneService&#x27;,\n",
       "                                                   &#x27;InternetService&#x27;,\n",
       "                                                   &#x27;NewCustomer&#x27;])])),\n",
       "                (&#x27;classifier&#x27;,\n",
       "                 RandomForestClassifier(class_weight=&#x27;balanced&#x27;,\n",
       "                                        random_state=42))])</pre><b>In a Jupyter environment, please rerun this cell to show the HTML representation or trust the notebook. <br />On GitHub, the HTML representation is unable to render, please try loading this page with nbviewer.org.</b></div><div class=\"sk-container\" hidden><div class=\"sk-item sk-dashed-wrapped\"><div class=\"sk-label-container\"><div class=\"sk-label sk-toggleable\"><input class=\"sk-toggleable__control sk-hidden--visually\" id=\"sk-estimator-id-19\" type=\"checkbox\" ><label for=\"sk-estimator-id-19\" class=\"sk-toggleable__label sk-toggleable__label-arrow\">Pipeline</label><div class=\"sk-toggleable__content\"><pre>Pipeline(steps=[(&#x27;preprocessor&#x27;,\n",
       "                 ColumnTransformer(transformers=[(&#x27;num&#x27;,\n",
       "                                                  Pipeline(steps=[(&#x27;imputer&#x27;,\n",
       "                                                                   SimpleImputer(strategy=&#x27;median&#x27;)),\n",
       "                                                                  (&#x27;scaler&#x27;,\n",
       "                                                                   StandardScaler())]),\n",
       "                                                  [&#x27;Tenure&#x27;, &#x27;MonthlyCharges&#x27;,\n",
       "                                                   &#x27;AverageCharges&#x27;]),\n",
       "                                                 (&#x27;cat&#x27;,\n",
       "                                                  Pipeline(steps=[(&#x27;imputer&#x27;,\n",
       "                                                                   SimpleImputer(strategy=&#x27;most_frequent&#x27;)),\n",
       "                                                                  (&#x27;onehot&#x27;,\n",
       "                                                                   OneHotEncoder(drop=&#x27;first&#x27;,\n",
       "                                                                                 handle_unknown=&#x27;ignore&#x27;))]),\n",
       "                                                  [&#x27;Gender&#x27;, &#x27;SeniorCitizen&#x27;,\n",
       "                                                   &#x27;Partner&#x27;, &#x27;Dependents&#x27;,\n",
       "                                                   &#x27;PhoneService&#x27;,\n",
       "                                                   &#x27;InternetService&#x27;,\n",
       "                                                   &#x27;NewCustomer&#x27;])])),\n",
       "                (&#x27;classifier&#x27;,\n",
       "                 RandomForestClassifier(class_weight=&#x27;balanced&#x27;,\n",
       "                                        random_state=42))])</pre></div></div></div><div class=\"sk-serial\"><div class=\"sk-item sk-dashed-wrapped\"><div class=\"sk-label-container\"><div class=\"sk-label sk-toggleable\"><input class=\"sk-toggleable__control sk-hidden--visually\" id=\"sk-estimator-id-20\" type=\"checkbox\" ><label for=\"sk-estimator-id-20\" class=\"sk-toggleable__label sk-toggleable__label-arrow\">preprocessor: ColumnTransformer</label><div class=\"sk-toggleable__content\"><pre>ColumnTransformer(transformers=[(&#x27;num&#x27;,\n",
       "                                 Pipeline(steps=[(&#x27;imputer&#x27;,\n",
       "                                                  SimpleImputer(strategy=&#x27;median&#x27;)),\n",
       "                                                 (&#x27;scaler&#x27;, StandardScaler())]),\n",
       "                                 [&#x27;Tenure&#x27;, &#x27;MonthlyCharges&#x27;,\n",
       "                                  &#x27;AverageCharges&#x27;]),\n",
       "                                (&#x27;cat&#x27;,\n",
       "                                 Pipeline(steps=[(&#x27;imputer&#x27;,\n",
       "                                                  SimpleImputer(strategy=&#x27;most_frequent&#x27;)),\n",
       "                                                 (&#x27;onehot&#x27;,\n",
       "                                                  OneHotEncoder(drop=&#x27;first&#x27;,\n",
       "                                                                handle_unknown=&#x27;ignore&#x27;))]),\n",
       "                                 [&#x27;Gender&#x27;, &#x27;SeniorCitizen&#x27;, &#x27;Partner&#x27;,\n",
       "                                  &#x27;Dependents&#x27;, &#x27;PhoneService&#x27;,\n",
       "                                  &#x27;InternetService&#x27;, &#x27;NewCustomer&#x27;])])</pre></div></div></div><div class=\"sk-parallel\"><div class=\"sk-parallel-item\"><div class=\"sk-item\"><div class=\"sk-label-container\"><div class=\"sk-label sk-toggleable\"><input class=\"sk-toggleable__control sk-hidden--visually\" id=\"sk-estimator-id-21\" type=\"checkbox\" ><label for=\"sk-estimator-id-21\" class=\"sk-toggleable__label sk-toggleable__label-arrow\">num</label><div class=\"sk-toggleable__content\"><pre>[&#x27;Tenure&#x27;, &#x27;MonthlyCharges&#x27;, &#x27;AverageCharges&#x27;]</pre></div></div></div><div class=\"sk-serial\"><div class=\"sk-item\"><div class=\"sk-serial\"><div class=\"sk-item\"><div class=\"sk-estimator sk-toggleable\"><input class=\"sk-toggleable__control sk-hidden--visually\" id=\"sk-estimator-id-22\" type=\"checkbox\" ><label for=\"sk-estimator-id-22\" class=\"sk-toggleable__label sk-toggleable__label-arrow\">SimpleImputer</label><div class=\"sk-toggleable__content\"><pre>SimpleImputer(strategy=&#x27;median&#x27;)</pre></div></div></div><div class=\"sk-item\"><div class=\"sk-estimator sk-toggleable\"><input class=\"sk-toggleable__control sk-hidden--visually\" id=\"sk-estimator-id-23\" type=\"checkbox\" ><label for=\"sk-estimator-id-23\" class=\"sk-toggleable__label sk-toggleable__label-arrow\">StandardScaler</label><div class=\"sk-toggleable__content\"><pre>StandardScaler()</pre></div></div></div></div></div></div></div></div><div class=\"sk-parallel-item\"><div class=\"sk-item\"><div class=\"sk-label-container\"><div class=\"sk-label sk-toggleable\"><input class=\"sk-toggleable__control sk-hidden--visually\" id=\"sk-estimator-id-24\" type=\"checkbox\" ><label for=\"sk-estimator-id-24\" class=\"sk-toggleable__label sk-toggleable__label-arrow\">cat</label><div class=\"sk-toggleable__content\"><pre>[&#x27;Gender&#x27;, &#x27;SeniorCitizen&#x27;, &#x27;Partner&#x27;, &#x27;Dependents&#x27;, &#x27;PhoneService&#x27;, &#x27;InternetService&#x27;, &#x27;NewCustomer&#x27;]</pre></div></div></div><div class=\"sk-serial\"><div class=\"sk-item\"><div class=\"sk-serial\"><div class=\"sk-item\"><div class=\"sk-estimator sk-toggleable\"><input class=\"sk-toggleable__control sk-hidden--visually\" id=\"sk-estimator-id-25\" type=\"checkbox\" ><label for=\"sk-estimator-id-25\" class=\"sk-toggleable__label sk-toggleable__label-arrow\">SimpleImputer</label><div class=\"sk-toggleable__content\"><pre>SimpleImputer(strategy=&#x27;most_frequent&#x27;)</pre></div></div></div><div class=\"sk-item\"><div class=\"sk-estimator sk-toggleable\"><input class=\"sk-toggleable__control sk-hidden--visually\" id=\"sk-estimator-id-26\" type=\"checkbox\" ><label for=\"sk-estimator-id-26\" class=\"sk-toggleable__label sk-toggleable__label-arrow\">OneHotEncoder</label><div class=\"sk-toggleable__content\"><pre>OneHotEncoder(drop=&#x27;first&#x27;, handle_unknown=&#x27;ignore&#x27;)</pre></div></div></div></div></div></div></div></div></div></div><div class=\"sk-item\"><div class=\"sk-estimator sk-toggleable\"><input class=\"sk-toggleable__control sk-hidden--visually\" id=\"sk-estimator-id-27\" type=\"checkbox\" ><label for=\"sk-estimator-id-27\" class=\"sk-toggleable__label sk-toggleable__label-arrow\">RandomForestClassifier</label><div class=\"sk-toggleable__content\"><pre>RandomForestClassifier(class_weight=&#x27;balanced&#x27;, random_state=42)</pre></div></div></div></div></div></div></div>"
      ],
      "text/plain": [
       "Pipeline(steps=[('preprocessor',\n",
       "                 ColumnTransformer(transformers=[('num',\n",
       "                                                  Pipeline(steps=[('imputer',\n",
       "                                                                   SimpleImputer(strategy='median')),\n",
       "                                                                  ('scaler',\n",
       "                                                                   StandardScaler())]),\n",
       "                                                  ['Tenure', 'MonthlyCharges',\n",
       "                                                   'AverageCharges']),\n",
       "                                                 ('cat',\n",
       "                                                  Pipeline(steps=[('imputer',\n",
       "                                                                   SimpleImputer(strategy='most_frequent')),\n",
       "                                                                  ('onehot',\n",
       "                                                                   OneHotEncoder(drop='first',\n",
       "                                                                                 handle_unknown='ignore'))]),\n",
       "                                                  ['Gender', 'SeniorCitizen',\n",
       "                                                   'Partner', 'Dependents',\n",
       "                                                   'PhoneService',\n",
       "                                                   'InternetService',\n",
       "                                                   'NewCustomer'])])),\n",
       "                ('classifier',\n",
       "                 RandomForestClassifier(class_weight='balanced',\n",
       "                                        random_state=42))])"
      ]
     },
     "execution_count": 40,
     "metadata": {},
     "output_type": "execute_result"
    }
   ],
   "source": [
    "rf_pipeline = Pipeline(steps = [('preprocessor', preprocessor), ('classifier', RandomForestClassifier(n_estimators = 100, class_weight='balanced', random_state=42))])\n",
    "\n",
    "rf_pipeline.fit(X_train, y_train)"
   ]
  },
  {
   "cell_type": "code",
   "execution_count": 41,
   "id": "9af5d037",
   "metadata": {},
   "outputs": [
    {
     "name": "stdout",
     "output_type": "stream",
     "text": [
      "Random Forest Accuracy: 0.6747\n",
      "Random Forest F1-score: 0.17603850050658565\n",
      "Confusion Matrix:\n",
      " [[12799  1992]\n",
      " [ 4514   695]]\n"
     ]
    }
   ],
   "source": [
    "y_pred_rf = rf_pipeline.predict(X_test)\n",
    "\n",
    "acc_rf = accuracy_score(y_test, y_pred_rf)\n",
    "f1_rf = f1_score(y_test, y_pred_rf, pos_label='Yes')\n",
    "cm_rf = confusion_matrix(y_test, y_pred_rf)\n",
    "\n",
    "print(\"Random Forest Accuracy:\", acc_rf)\n",
    "print(\"Random Forest F1-score:\", f1_rf)\n",
    "print(\"Confusion Matrix:\\n\", cm_rf)"
   ]
  },
  {
   "cell_type": "markdown",
   "id": "52801f70",
   "metadata": {},
   "source": [
    "> Gradient Boosting"
   ]
  },
  {
   "cell_type": "code",
   "execution_count": 42,
   "id": "a27dfe8d",
   "metadata": {},
   "outputs": [],
   "source": [
    "from sklearn.ensemble import GradientBoostingClassifier\n",
    "\n",
    "# Gradient Boosting pipeline\n",
    "gb_pipeline = Pipeline(steps=[\n",
    "    ('preprocessor', preprocessor),             # same ColumnTransformer\n",
    "    ('classifier', GradientBoostingClassifier(\n",
    "        n_estimators=100,                       # number of boosting stages\n",
    "        learning_rate=0.1,                      # step size shrinkage\n",
    "        max_depth=3,                            # tree depth\n",
    "        random_state=42\n",
    "    ))\n",
    "])"
   ]
  },
  {
   "cell_type": "code",
   "execution_count": 43,
   "id": "de83a5af",
   "metadata": {},
   "outputs": [
    {
     "data": {
      "text/html": [
       "<style>#sk-container-id-4 {color: black;}#sk-container-id-4 pre{padding: 0;}#sk-container-id-4 div.sk-toggleable {background-color: white;}#sk-container-id-4 label.sk-toggleable__label {cursor: pointer;display: block;width: 100%;margin-bottom: 0;padding: 0.3em;box-sizing: border-box;text-align: center;}#sk-container-id-4 label.sk-toggleable__label-arrow:before {content: \"▸\";float: left;margin-right: 0.25em;color: #696969;}#sk-container-id-4 label.sk-toggleable__label-arrow:hover:before {color: black;}#sk-container-id-4 div.sk-estimator:hover label.sk-toggleable__label-arrow:before {color: black;}#sk-container-id-4 div.sk-toggleable__content {max-height: 0;max-width: 0;overflow: hidden;text-align: left;background-color: #f0f8ff;}#sk-container-id-4 div.sk-toggleable__content pre {margin: 0.2em;color: black;border-radius: 0.25em;background-color: #f0f8ff;}#sk-container-id-4 input.sk-toggleable__control:checked~div.sk-toggleable__content {max-height: 200px;max-width: 100%;overflow: auto;}#sk-container-id-4 input.sk-toggleable__control:checked~label.sk-toggleable__label-arrow:before {content: \"▾\";}#sk-container-id-4 div.sk-estimator input.sk-toggleable__control:checked~label.sk-toggleable__label {background-color: #d4ebff;}#sk-container-id-4 div.sk-label input.sk-toggleable__control:checked~label.sk-toggleable__label {background-color: #d4ebff;}#sk-container-id-4 input.sk-hidden--visually {border: 0;clip: rect(1px 1px 1px 1px);clip: rect(1px, 1px, 1px, 1px);height: 1px;margin: -1px;overflow: hidden;padding: 0;position: absolute;width: 1px;}#sk-container-id-4 div.sk-estimator {font-family: monospace;background-color: #f0f8ff;border: 1px dotted black;border-radius: 0.25em;box-sizing: border-box;margin-bottom: 0.5em;}#sk-container-id-4 div.sk-estimator:hover {background-color: #d4ebff;}#sk-container-id-4 div.sk-parallel-item::after {content: \"\";width: 100%;border-bottom: 1px solid gray;flex-grow: 1;}#sk-container-id-4 div.sk-label:hover label.sk-toggleable__label {background-color: #d4ebff;}#sk-container-id-4 div.sk-serial::before {content: \"\";position: absolute;border-left: 1px solid gray;box-sizing: border-box;top: 0;bottom: 0;left: 50%;z-index: 0;}#sk-container-id-4 div.sk-serial {display: flex;flex-direction: column;align-items: center;background-color: white;padding-right: 0.2em;padding-left: 0.2em;position: relative;}#sk-container-id-4 div.sk-item {position: relative;z-index: 1;}#sk-container-id-4 div.sk-parallel {display: flex;align-items: stretch;justify-content: center;background-color: white;position: relative;}#sk-container-id-4 div.sk-item::before, #sk-container-id-4 div.sk-parallel-item::before {content: \"\";position: absolute;border-left: 1px solid gray;box-sizing: border-box;top: 0;bottom: 0;left: 50%;z-index: -1;}#sk-container-id-4 div.sk-parallel-item {display: flex;flex-direction: column;z-index: 1;position: relative;background-color: white;}#sk-container-id-4 div.sk-parallel-item:first-child::after {align-self: flex-end;width: 50%;}#sk-container-id-4 div.sk-parallel-item:last-child::after {align-self: flex-start;width: 50%;}#sk-container-id-4 div.sk-parallel-item:only-child::after {width: 0;}#sk-container-id-4 div.sk-dashed-wrapped {border: 1px dashed gray;margin: 0 0.4em 0.5em 0.4em;box-sizing: border-box;padding-bottom: 0.4em;background-color: white;}#sk-container-id-4 div.sk-label label {font-family: monospace;font-weight: bold;display: inline-block;line-height: 1.2em;}#sk-container-id-4 div.sk-label-container {text-align: center;}#sk-container-id-4 div.sk-container {/* jupyter's `normalize.less` sets `[hidden] { display: none; }` but bootstrap.min.css set `[hidden] { display: none !important; }` so we also need the `!important` here to be able to override the default hidden behavior on the sphinx rendered scikit-learn.org. See: https://github.com/scikit-learn/scikit-learn/issues/21755 */display: inline-block !important;position: relative;}#sk-container-id-4 div.sk-text-repr-fallback {display: none;}</style><div id=\"sk-container-id-4\" class=\"sk-top-container\"><div class=\"sk-text-repr-fallback\"><pre>Pipeline(steps=[(&#x27;preprocessor&#x27;,\n",
       "                 ColumnTransformer(transformers=[(&#x27;num&#x27;,\n",
       "                                                  Pipeline(steps=[(&#x27;imputer&#x27;,\n",
       "                                                                   SimpleImputer(strategy=&#x27;median&#x27;)),\n",
       "                                                                  (&#x27;scaler&#x27;,\n",
       "                                                                   StandardScaler())]),\n",
       "                                                  [&#x27;Tenure&#x27;, &#x27;MonthlyCharges&#x27;,\n",
       "                                                   &#x27;AverageCharges&#x27;]),\n",
       "                                                 (&#x27;cat&#x27;,\n",
       "                                                  Pipeline(steps=[(&#x27;imputer&#x27;,\n",
       "                                                                   SimpleImputer(strategy=&#x27;most_frequent&#x27;)),\n",
       "                                                                  (&#x27;onehot&#x27;,\n",
       "                                                                   OneHotEncoder(drop=&#x27;first&#x27;,\n",
       "                                                                                 handle_unknown=&#x27;ignore&#x27;))]),\n",
       "                                                  [&#x27;Gender&#x27;, &#x27;SeniorCitizen&#x27;,\n",
       "                                                   &#x27;Partner&#x27;, &#x27;Dependents&#x27;,\n",
       "                                                   &#x27;PhoneService&#x27;,\n",
       "                                                   &#x27;InternetService&#x27;,\n",
       "                                                   &#x27;NewCustomer&#x27;])])),\n",
       "                (&#x27;classifier&#x27;, GradientBoostingClassifier(random_state=42))])</pre><b>In a Jupyter environment, please rerun this cell to show the HTML representation or trust the notebook. <br />On GitHub, the HTML representation is unable to render, please try loading this page with nbviewer.org.</b></div><div class=\"sk-container\" hidden><div class=\"sk-item sk-dashed-wrapped\"><div class=\"sk-label-container\"><div class=\"sk-label sk-toggleable\"><input class=\"sk-toggleable__control sk-hidden--visually\" id=\"sk-estimator-id-28\" type=\"checkbox\" ><label for=\"sk-estimator-id-28\" class=\"sk-toggleable__label sk-toggleable__label-arrow\">Pipeline</label><div class=\"sk-toggleable__content\"><pre>Pipeline(steps=[(&#x27;preprocessor&#x27;,\n",
       "                 ColumnTransformer(transformers=[(&#x27;num&#x27;,\n",
       "                                                  Pipeline(steps=[(&#x27;imputer&#x27;,\n",
       "                                                                   SimpleImputer(strategy=&#x27;median&#x27;)),\n",
       "                                                                  (&#x27;scaler&#x27;,\n",
       "                                                                   StandardScaler())]),\n",
       "                                                  [&#x27;Tenure&#x27;, &#x27;MonthlyCharges&#x27;,\n",
       "                                                   &#x27;AverageCharges&#x27;]),\n",
       "                                                 (&#x27;cat&#x27;,\n",
       "                                                  Pipeline(steps=[(&#x27;imputer&#x27;,\n",
       "                                                                   SimpleImputer(strategy=&#x27;most_frequent&#x27;)),\n",
       "                                                                  (&#x27;onehot&#x27;,\n",
       "                                                                   OneHotEncoder(drop=&#x27;first&#x27;,\n",
       "                                                                                 handle_unknown=&#x27;ignore&#x27;))]),\n",
       "                                                  [&#x27;Gender&#x27;, &#x27;SeniorCitizen&#x27;,\n",
       "                                                   &#x27;Partner&#x27;, &#x27;Dependents&#x27;,\n",
       "                                                   &#x27;PhoneService&#x27;,\n",
       "                                                   &#x27;InternetService&#x27;,\n",
       "                                                   &#x27;NewCustomer&#x27;])])),\n",
       "                (&#x27;classifier&#x27;, GradientBoostingClassifier(random_state=42))])</pre></div></div></div><div class=\"sk-serial\"><div class=\"sk-item sk-dashed-wrapped\"><div class=\"sk-label-container\"><div class=\"sk-label sk-toggleable\"><input class=\"sk-toggleable__control sk-hidden--visually\" id=\"sk-estimator-id-29\" type=\"checkbox\" ><label for=\"sk-estimator-id-29\" class=\"sk-toggleable__label sk-toggleable__label-arrow\">preprocessor: ColumnTransformer</label><div class=\"sk-toggleable__content\"><pre>ColumnTransformer(transformers=[(&#x27;num&#x27;,\n",
       "                                 Pipeline(steps=[(&#x27;imputer&#x27;,\n",
       "                                                  SimpleImputer(strategy=&#x27;median&#x27;)),\n",
       "                                                 (&#x27;scaler&#x27;, StandardScaler())]),\n",
       "                                 [&#x27;Tenure&#x27;, &#x27;MonthlyCharges&#x27;,\n",
       "                                  &#x27;AverageCharges&#x27;]),\n",
       "                                (&#x27;cat&#x27;,\n",
       "                                 Pipeline(steps=[(&#x27;imputer&#x27;,\n",
       "                                                  SimpleImputer(strategy=&#x27;most_frequent&#x27;)),\n",
       "                                                 (&#x27;onehot&#x27;,\n",
       "                                                  OneHotEncoder(drop=&#x27;first&#x27;,\n",
       "                                                                handle_unknown=&#x27;ignore&#x27;))]),\n",
       "                                 [&#x27;Gender&#x27;, &#x27;SeniorCitizen&#x27;, &#x27;Partner&#x27;,\n",
       "                                  &#x27;Dependents&#x27;, &#x27;PhoneService&#x27;,\n",
       "                                  &#x27;InternetService&#x27;, &#x27;NewCustomer&#x27;])])</pre></div></div></div><div class=\"sk-parallel\"><div class=\"sk-parallel-item\"><div class=\"sk-item\"><div class=\"sk-label-container\"><div class=\"sk-label sk-toggleable\"><input class=\"sk-toggleable__control sk-hidden--visually\" id=\"sk-estimator-id-30\" type=\"checkbox\" ><label for=\"sk-estimator-id-30\" class=\"sk-toggleable__label sk-toggleable__label-arrow\">num</label><div class=\"sk-toggleable__content\"><pre>[&#x27;Tenure&#x27;, &#x27;MonthlyCharges&#x27;, &#x27;AverageCharges&#x27;]</pre></div></div></div><div class=\"sk-serial\"><div class=\"sk-item\"><div class=\"sk-serial\"><div class=\"sk-item\"><div class=\"sk-estimator sk-toggleable\"><input class=\"sk-toggleable__control sk-hidden--visually\" id=\"sk-estimator-id-31\" type=\"checkbox\" ><label for=\"sk-estimator-id-31\" class=\"sk-toggleable__label sk-toggleable__label-arrow\">SimpleImputer</label><div class=\"sk-toggleable__content\"><pre>SimpleImputer(strategy=&#x27;median&#x27;)</pre></div></div></div><div class=\"sk-item\"><div class=\"sk-estimator sk-toggleable\"><input class=\"sk-toggleable__control sk-hidden--visually\" id=\"sk-estimator-id-32\" type=\"checkbox\" ><label for=\"sk-estimator-id-32\" class=\"sk-toggleable__label sk-toggleable__label-arrow\">StandardScaler</label><div class=\"sk-toggleable__content\"><pre>StandardScaler()</pre></div></div></div></div></div></div></div></div><div class=\"sk-parallel-item\"><div class=\"sk-item\"><div class=\"sk-label-container\"><div class=\"sk-label sk-toggleable\"><input class=\"sk-toggleable__control sk-hidden--visually\" id=\"sk-estimator-id-33\" type=\"checkbox\" ><label for=\"sk-estimator-id-33\" class=\"sk-toggleable__label sk-toggleable__label-arrow\">cat</label><div class=\"sk-toggleable__content\"><pre>[&#x27;Gender&#x27;, &#x27;SeniorCitizen&#x27;, &#x27;Partner&#x27;, &#x27;Dependents&#x27;, &#x27;PhoneService&#x27;, &#x27;InternetService&#x27;, &#x27;NewCustomer&#x27;]</pre></div></div></div><div class=\"sk-serial\"><div class=\"sk-item\"><div class=\"sk-serial\"><div class=\"sk-item\"><div class=\"sk-estimator sk-toggleable\"><input class=\"sk-toggleable__control sk-hidden--visually\" id=\"sk-estimator-id-34\" type=\"checkbox\" ><label for=\"sk-estimator-id-34\" class=\"sk-toggleable__label sk-toggleable__label-arrow\">SimpleImputer</label><div class=\"sk-toggleable__content\"><pre>SimpleImputer(strategy=&#x27;most_frequent&#x27;)</pre></div></div></div><div class=\"sk-item\"><div class=\"sk-estimator sk-toggleable\"><input class=\"sk-toggleable__control sk-hidden--visually\" id=\"sk-estimator-id-35\" type=\"checkbox\" ><label for=\"sk-estimator-id-35\" class=\"sk-toggleable__label sk-toggleable__label-arrow\">OneHotEncoder</label><div class=\"sk-toggleable__content\"><pre>OneHotEncoder(drop=&#x27;first&#x27;, handle_unknown=&#x27;ignore&#x27;)</pre></div></div></div></div></div></div></div></div></div></div><div class=\"sk-item\"><div class=\"sk-estimator sk-toggleable\"><input class=\"sk-toggleable__control sk-hidden--visually\" id=\"sk-estimator-id-36\" type=\"checkbox\" ><label for=\"sk-estimator-id-36\" class=\"sk-toggleable__label sk-toggleable__label-arrow\">GradientBoostingClassifier</label><div class=\"sk-toggleable__content\"><pre>GradientBoostingClassifier(random_state=42)</pre></div></div></div></div></div></div></div>"
      ],
      "text/plain": [
       "Pipeline(steps=[('preprocessor',\n",
       "                 ColumnTransformer(transformers=[('num',\n",
       "                                                  Pipeline(steps=[('imputer',\n",
       "                                                                   SimpleImputer(strategy='median')),\n",
       "                                                                  ('scaler',\n",
       "                                                                   StandardScaler())]),\n",
       "                                                  ['Tenure', 'MonthlyCharges',\n",
       "                                                   'AverageCharges']),\n",
       "                                                 ('cat',\n",
       "                                                  Pipeline(steps=[('imputer',\n",
       "                                                                   SimpleImputer(strategy='most_frequent')),\n",
       "                                                                  ('onehot',\n",
       "                                                                   OneHotEncoder(drop='first',\n",
       "                                                                                 handle_unknown='ignore'))]),\n",
       "                                                  ['Gender', 'SeniorCitizen',\n",
       "                                                   'Partner', 'Dependents',\n",
       "                                                   'PhoneService',\n",
       "                                                   'InternetService',\n",
       "                                                   'NewCustomer'])])),\n",
       "                ('classifier', GradientBoostingClassifier(random_state=42))])"
      ]
     },
     "execution_count": 43,
     "metadata": {},
     "output_type": "execute_result"
    }
   ],
   "source": [
    "gb_pipeline.fit(X_train, y_train)"
   ]
  },
  {
   "cell_type": "code",
   "execution_count": 44,
   "id": "7e39088d",
   "metadata": {},
   "outputs": [
    {
     "name": "stdout",
     "output_type": "stream",
     "text": [
      "Gradient Boosting Accuracy: 0.73945\n",
      "Gradient Boosting F1-score: 0.0\n",
      "Confusion Matrix:\n",
      " [[14789     2]\n",
      " [ 5209     0]]\n"
     ]
    }
   ],
   "source": [
    "y_pred_gb = gb_pipeline.predict(X_test)\n",
    "acc_gb = accuracy_score(y_test, y_pred_gb)\n",
    "f1_gb = f1_score(y_test, y_pred_gb, pos_label='Yes')\n",
    "cm_gb = confusion_matrix(y_test, y_pred_gb)\n",
    "\n",
    "print(\"Gradient Boosting Accuracy:\", acc_gb)\n",
    "print(\"Gradient Boosting F1-score:\", f1_gb)\n",
    "print(\"Confusion Matrix:\\n\", cm_gb)"
   ]
  },
  {
   "cell_type": "markdown",
   "id": "f38aab11",
   "metadata": {},
   "source": [
    ">>> from these measure, we can say LogisticRegression does detects churners but has low accuracy on the other hand GradientBoosting has high accuracy but its F-1 score is zero because it just predicts non-churners however after class imbalancing it can be high.\n",
    "\n",
    "but right now SMOTE is giving me errors don't know how to resolve it so I'm switching to RandomeForest"
   ]
  },
  {
   "cell_type": "markdown",
   "id": "c85acaa7",
   "metadata": {},
   "source": [
    "2. Hyperparameter Tuning"
   ]
  },
  {
   "cell_type": "code",
   "execution_count": 47,
   "id": "fca8b732",
   "metadata": {},
   "outputs": [
    {
     "name": "stdout",
     "output_type": "stream",
     "text": [
      "Fitting 2 folds for each of 8 candidates, totalling 16 fits\n"
     ]
    },
    {
     "data": {
      "text/html": [
       "<style>#sk-container-id-6 {color: black;}#sk-container-id-6 pre{padding: 0;}#sk-container-id-6 div.sk-toggleable {background-color: white;}#sk-container-id-6 label.sk-toggleable__label {cursor: pointer;display: block;width: 100%;margin-bottom: 0;padding: 0.3em;box-sizing: border-box;text-align: center;}#sk-container-id-6 label.sk-toggleable__label-arrow:before {content: \"▸\";float: left;margin-right: 0.25em;color: #696969;}#sk-container-id-6 label.sk-toggleable__label-arrow:hover:before {color: black;}#sk-container-id-6 div.sk-estimator:hover label.sk-toggleable__label-arrow:before {color: black;}#sk-container-id-6 div.sk-toggleable__content {max-height: 0;max-width: 0;overflow: hidden;text-align: left;background-color: #f0f8ff;}#sk-container-id-6 div.sk-toggleable__content pre {margin: 0.2em;color: black;border-radius: 0.25em;background-color: #f0f8ff;}#sk-container-id-6 input.sk-toggleable__control:checked~div.sk-toggleable__content {max-height: 200px;max-width: 100%;overflow: auto;}#sk-container-id-6 input.sk-toggleable__control:checked~label.sk-toggleable__label-arrow:before {content: \"▾\";}#sk-container-id-6 div.sk-estimator input.sk-toggleable__control:checked~label.sk-toggleable__label {background-color: #d4ebff;}#sk-container-id-6 div.sk-label input.sk-toggleable__control:checked~label.sk-toggleable__label {background-color: #d4ebff;}#sk-container-id-6 input.sk-hidden--visually {border: 0;clip: rect(1px 1px 1px 1px);clip: rect(1px, 1px, 1px, 1px);height: 1px;margin: -1px;overflow: hidden;padding: 0;position: absolute;width: 1px;}#sk-container-id-6 div.sk-estimator {font-family: monospace;background-color: #f0f8ff;border: 1px dotted black;border-radius: 0.25em;box-sizing: border-box;margin-bottom: 0.5em;}#sk-container-id-6 div.sk-estimator:hover {background-color: #d4ebff;}#sk-container-id-6 div.sk-parallel-item::after {content: \"\";width: 100%;border-bottom: 1px solid gray;flex-grow: 1;}#sk-container-id-6 div.sk-label:hover label.sk-toggleable__label {background-color: #d4ebff;}#sk-container-id-6 div.sk-serial::before {content: \"\";position: absolute;border-left: 1px solid gray;box-sizing: border-box;top: 0;bottom: 0;left: 50%;z-index: 0;}#sk-container-id-6 div.sk-serial {display: flex;flex-direction: column;align-items: center;background-color: white;padding-right: 0.2em;padding-left: 0.2em;position: relative;}#sk-container-id-6 div.sk-item {position: relative;z-index: 1;}#sk-container-id-6 div.sk-parallel {display: flex;align-items: stretch;justify-content: center;background-color: white;position: relative;}#sk-container-id-6 div.sk-item::before, #sk-container-id-6 div.sk-parallel-item::before {content: \"\";position: absolute;border-left: 1px solid gray;box-sizing: border-box;top: 0;bottom: 0;left: 50%;z-index: -1;}#sk-container-id-6 div.sk-parallel-item {display: flex;flex-direction: column;z-index: 1;position: relative;background-color: white;}#sk-container-id-6 div.sk-parallel-item:first-child::after {align-self: flex-end;width: 50%;}#sk-container-id-6 div.sk-parallel-item:last-child::after {align-self: flex-start;width: 50%;}#sk-container-id-6 div.sk-parallel-item:only-child::after {width: 0;}#sk-container-id-6 div.sk-dashed-wrapped {border: 1px dashed gray;margin: 0 0.4em 0.5em 0.4em;box-sizing: border-box;padding-bottom: 0.4em;background-color: white;}#sk-container-id-6 div.sk-label label {font-family: monospace;font-weight: bold;display: inline-block;line-height: 1.2em;}#sk-container-id-6 div.sk-label-container {text-align: center;}#sk-container-id-6 div.sk-container {/* jupyter's `normalize.less` sets `[hidden] { display: none; }` but bootstrap.min.css set `[hidden] { display: none !important; }` so we also need the `!important` here to be able to override the default hidden behavior on the sphinx rendered scikit-learn.org. See: https://github.com/scikit-learn/scikit-learn/issues/21755 */display: inline-block !important;position: relative;}#sk-container-id-6 div.sk-text-repr-fallback {display: none;}</style><div id=\"sk-container-id-6\" class=\"sk-top-container\"><div class=\"sk-text-repr-fallback\"><pre>GridSearchCV(cv=2,\n",
       "             estimator=Pipeline(steps=[(&#x27;preprocessor&#x27;,\n",
       "                                        ColumnTransformer(transformers=[(&#x27;num&#x27;,\n",
       "                                                                         Pipeline(steps=[(&#x27;imputer&#x27;,\n",
       "                                                                                          SimpleImputer(strategy=&#x27;median&#x27;)),\n",
       "                                                                                         (&#x27;scaler&#x27;,\n",
       "                                                                                          StandardScaler())]),\n",
       "                                                                         [&#x27;Tenure&#x27;,\n",
       "                                                                          &#x27;MonthlyCharges&#x27;,\n",
       "                                                                          &#x27;AverageCharges&#x27;]),\n",
       "                                                                        (&#x27;cat&#x27;,\n",
       "                                                                         Pipeline(steps=[(&#x27;imputer&#x27;,\n",
       "                                                                                          SimpleImputer(strategy=&#x27;most_frequent&#x27;)),\n",
       "                                                                                         (&#x27;onehot&#x27;,\n",
       "                                                                                          OneHotEncoder(drop=&#x27;first&#x27;,\n",
       "                                                                                                        ha...own=&#x27;ignore&#x27;))]),\n",
       "                                                                         [&#x27;Gender&#x27;,\n",
       "                                                                          &#x27;SeniorCitizen&#x27;,\n",
       "                                                                          &#x27;Partner&#x27;,\n",
       "                                                                          &#x27;Dependents&#x27;,\n",
       "                                                                          &#x27;PhoneService&#x27;,\n",
       "                                                                          &#x27;InternetService&#x27;,\n",
       "                                                                          &#x27;NewCustomer&#x27;])])),\n",
       "                                       (&#x27;classifier&#x27;,\n",
       "                                        RandomForestClassifier(class_weight=&#x27;balanced&#x27;,\n",
       "                                                               random_state=42))]),\n",
       "             n_jobs=-1,\n",
       "             param_grid={&#x27;classifier__max_depth&#x27;: [5, 8],\n",
       "                         &#x27;classifier__min_samples_split&#x27;: [2, 5],\n",
       "                         &#x27;classifier__n_estimators&#x27;: [100, 150]},\n",
       "             scoring=&#x27;f1&#x27;, verbose=2)</pre><b>In a Jupyter environment, please rerun this cell to show the HTML representation or trust the notebook. <br />On GitHub, the HTML representation is unable to render, please try loading this page with nbviewer.org.</b></div><div class=\"sk-container\" hidden><div class=\"sk-item sk-dashed-wrapped\"><div class=\"sk-label-container\"><div class=\"sk-label sk-toggleable\"><input class=\"sk-toggleable__control sk-hidden--visually\" id=\"sk-estimator-id-47\" type=\"checkbox\" ><label for=\"sk-estimator-id-47\" class=\"sk-toggleable__label sk-toggleable__label-arrow\">GridSearchCV</label><div class=\"sk-toggleable__content\"><pre>GridSearchCV(cv=2,\n",
       "             estimator=Pipeline(steps=[(&#x27;preprocessor&#x27;,\n",
       "                                        ColumnTransformer(transformers=[(&#x27;num&#x27;,\n",
       "                                                                         Pipeline(steps=[(&#x27;imputer&#x27;,\n",
       "                                                                                          SimpleImputer(strategy=&#x27;median&#x27;)),\n",
       "                                                                                         (&#x27;scaler&#x27;,\n",
       "                                                                                          StandardScaler())]),\n",
       "                                                                         [&#x27;Tenure&#x27;,\n",
       "                                                                          &#x27;MonthlyCharges&#x27;,\n",
       "                                                                          &#x27;AverageCharges&#x27;]),\n",
       "                                                                        (&#x27;cat&#x27;,\n",
       "                                                                         Pipeline(steps=[(&#x27;imputer&#x27;,\n",
       "                                                                                          SimpleImputer(strategy=&#x27;most_frequent&#x27;)),\n",
       "                                                                                         (&#x27;onehot&#x27;,\n",
       "                                                                                          OneHotEncoder(drop=&#x27;first&#x27;,\n",
       "                                                                                                        ha...own=&#x27;ignore&#x27;))]),\n",
       "                                                                         [&#x27;Gender&#x27;,\n",
       "                                                                          &#x27;SeniorCitizen&#x27;,\n",
       "                                                                          &#x27;Partner&#x27;,\n",
       "                                                                          &#x27;Dependents&#x27;,\n",
       "                                                                          &#x27;PhoneService&#x27;,\n",
       "                                                                          &#x27;InternetService&#x27;,\n",
       "                                                                          &#x27;NewCustomer&#x27;])])),\n",
       "                                       (&#x27;classifier&#x27;,\n",
       "                                        RandomForestClassifier(class_weight=&#x27;balanced&#x27;,\n",
       "                                                               random_state=42))]),\n",
       "             n_jobs=-1,\n",
       "             param_grid={&#x27;classifier__max_depth&#x27;: [5, 8],\n",
       "                         &#x27;classifier__min_samples_split&#x27;: [2, 5],\n",
       "                         &#x27;classifier__n_estimators&#x27;: [100, 150]},\n",
       "             scoring=&#x27;f1&#x27;, verbose=2)</pre></div></div></div><div class=\"sk-parallel\"><div class=\"sk-parallel-item\"><div class=\"sk-item\"><div class=\"sk-label-container\"><div class=\"sk-label sk-toggleable\"><input class=\"sk-toggleable__control sk-hidden--visually\" id=\"sk-estimator-id-48\" type=\"checkbox\" ><label for=\"sk-estimator-id-48\" class=\"sk-toggleable__label sk-toggleable__label-arrow\">estimator: Pipeline</label><div class=\"sk-toggleable__content\"><pre>Pipeline(steps=[(&#x27;preprocessor&#x27;,\n",
       "                 ColumnTransformer(transformers=[(&#x27;num&#x27;,\n",
       "                                                  Pipeline(steps=[(&#x27;imputer&#x27;,\n",
       "                                                                   SimpleImputer(strategy=&#x27;median&#x27;)),\n",
       "                                                                  (&#x27;scaler&#x27;,\n",
       "                                                                   StandardScaler())]),\n",
       "                                                  [&#x27;Tenure&#x27;, &#x27;MonthlyCharges&#x27;,\n",
       "                                                   &#x27;AverageCharges&#x27;]),\n",
       "                                                 (&#x27;cat&#x27;,\n",
       "                                                  Pipeline(steps=[(&#x27;imputer&#x27;,\n",
       "                                                                   SimpleImputer(strategy=&#x27;most_frequent&#x27;)),\n",
       "                                                                  (&#x27;onehot&#x27;,\n",
       "                                                                   OneHotEncoder(drop=&#x27;first&#x27;,\n",
       "                                                                                 handle_unknown=&#x27;ignore&#x27;))]),\n",
       "                                                  [&#x27;Gender&#x27;, &#x27;SeniorCitizen&#x27;,\n",
       "                                                   &#x27;Partner&#x27;, &#x27;Dependents&#x27;,\n",
       "                                                   &#x27;PhoneService&#x27;,\n",
       "                                                   &#x27;InternetService&#x27;,\n",
       "                                                   &#x27;NewCustomer&#x27;])])),\n",
       "                (&#x27;classifier&#x27;,\n",
       "                 RandomForestClassifier(class_weight=&#x27;balanced&#x27;,\n",
       "                                        random_state=42))])</pre></div></div></div><div class=\"sk-serial\"><div class=\"sk-item\"><div class=\"sk-serial\"><div class=\"sk-item sk-dashed-wrapped\"><div class=\"sk-label-container\"><div class=\"sk-label sk-toggleable\"><input class=\"sk-toggleable__control sk-hidden--visually\" id=\"sk-estimator-id-49\" type=\"checkbox\" ><label for=\"sk-estimator-id-49\" class=\"sk-toggleable__label sk-toggleable__label-arrow\">preprocessor: ColumnTransformer</label><div class=\"sk-toggleable__content\"><pre>ColumnTransformer(transformers=[(&#x27;num&#x27;,\n",
       "                                 Pipeline(steps=[(&#x27;imputer&#x27;,\n",
       "                                                  SimpleImputer(strategy=&#x27;median&#x27;)),\n",
       "                                                 (&#x27;scaler&#x27;, StandardScaler())]),\n",
       "                                 [&#x27;Tenure&#x27;, &#x27;MonthlyCharges&#x27;,\n",
       "                                  &#x27;AverageCharges&#x27;]),\n",
       "                                (&#x27;cat&#x27;,\n",
       "                                 Pipeline(steps=[(&#x27;imputer&#x27;,\n",
       "                                                  SimpleImputer(strategy=&#x27;most_frequent&#x27;)),\n",
       "                                                 (&#x27;onehot&#x27;,\n",
       "                                                  OneHotEncoder(drop=&#x27;first&#x27;,\n",
       "                                                                handle_unknown=&#x27;ignore&#x27;))]),\n",
       "                                 [&#x27;Gender&#x27;, &#x27;SeniorCitizen&#x27;, &#x27;Partner&#x27;,\n",
       "                                  &#x27;Dependents&#x27;, &#x27;PhoneService&#x27;,\n",
       "                                  &#x27;InternetService&#x27;, &#x27;NewCustomer&#x27;])])</pre></div></div></div><div class=\"sk-parallel\"><div class=\"sk-parallel-item\"><div class=\"sk-item\"><div class=\"sk-label-container\"><div class=\"sk-label sk-toggleable\"><input class=\"sk-toggleable__control sk-hidden--visually\" id=\"sk-estimator-id-50\" type=\"checkbox\" ><label for=\"sk-estimator-id-50\" class=\"sk-toggleable__label sk-toggleable__label-arrow\">num</label><div class=\"sk-toggleable__content\"><pre>[&#x27;Tenure&#x27;, &#x27;MonthlyCharges&#x27;, &#x27;AverageCharges&#x27;]</pre></div></div></div><div class=\"sk-serial\"><div class=\"sk-item\"><div class=\"sk-serial\"><div class=\"sk-item\"><div class=\"sk-estimator sk-toggleable\"><input class=\"sk-toggleable__control sk-hidden--visually\" id=\"sk-estimator-id-51\" type=\"checkbox\" ><label for=\"sk-estimator-id-51\" class=\"sk-toggleable__label sk-toggleable__label-arrow\">SimpleImputer</label><div class=\"sk-toggleable__content\"><pre>SimpleImputer(strategy=&#x27;median&#x27;)</pre></div></div></div><div class=\"sk-item\"><div class=\"sk-estimator sk-toggleable\"><input class=\"sk-toggleable__control sk-hidden--visually\" id=\"sk-estimator-id-52\" type=\"checkbox\" ><label for=\"sk-estimator-id-52\" class=\"sk-toggleable__label sk-toggleable__label-arrow\">StandardScaler</label><div class=\"sk-toggleable__content\"><pre>StandardScaler()</pre></div></div></div></div></div></div></div></div><div class=\"sk-parallel-item\"><div class=\"sk-item\"><div class=\"sk-label-container\"><div class=\"sk-label sk-toggleable\"><input class=\"sk-toggleable__control sk-hidden--visually\" id=\"sk-estimator-id-53\" type=\"checkbox\" ><label for=\"sk-estimator-id-53\" class=\"sk-toggleable__label sk-toggleable__label-arrow\">cat</label><div class=\"sk-toggleable__content\"><pre>[&#x27;Gender&#x27;, &#x27;SeniorCitizen&#x27;, &#x27;Partner&#x27;, &#x27;Dependents&#x27;, &#x27;PhoneService&#x27;, &#x27;InternetService&#x27;, &#x27;NewCustomer&#x27;]</pre></div></div></div><div class=\"sk-serial\"><div class=\"sk-item\"><div class=\"sk-serial\"><div class=\"sk-item\"><div class=\"sk-estimator sk-toggleable\"><input class=\"sk-toggleable__control sk-hidden--visually\" id=\"sk-estimator-id-54\" type=\"checkbox\" ><label for=\"sk-estimator-id-54\" class=\"sk-toggleable__label sk-toggleable__label-arrow\">SimpleImputer</label><div class=\"sk-toggleable__content\"><pre>SimpleImputer(strategy=&#x27;most_frequent&#x27;)</pre></div></div></div><div class=\"sk-item\"><div class=\"sk-estimator sk-toggleable\"><input class=\"sk-toggleable__control sk-hidden--visually\" id=\"sk-estimator-id-55\" type=\"checkbox\" ><label for=\"sk-estimator-id-55\" class=\"sk-toggleable__label sk-toggleable__label-arrow\">OneHotEncoder</label><div class=\"sk-toggleable__content\"><pre>OneHotEncoder(drop=&#x27;first&#x27;, handle_unknown=&#x27;ignore&#x27;)</pre></div></div></div></div></div></div></div></div></div></div><div class=\"sk-item\"><div class=\"sk-estimator sk-toggleable\"><input class=\"sk-toggleable__control sk-hidden--visually\" id=\"sk-estimator-id-56\" type=\"checkbox\" ><label for=\"sk-estimator-id-56\" class=\"sk-toggleable__label sk-toggleable__label-arrow\">RandomForestClassifier</label><div class=\"sk-toggleable__content\"><pre>RandomForestClassifier(class_weight=&#x27;balanced&#x27;, random_state=42)</pre></div></div></div></div></div></div></div></div></div></div></div></div>"
      ],
      "text/plain": [
       "GridSearchCV(cv=2,\n",
       "             estimator=Pipeline(steps=[('preprocessor',\n",
       "                                        ColumnTransformer(transformers=[('num',\n",
       "                                                                         Pipeline(steps=[('imputer',\n",
       "                                                                                          SimpleImputer(strategy='median')),\n",
       "                                                                                         ('scaler',\n",
       "                                                                                          StandardScaler())]),\n",
       "                                                                         ['Tenure',\n",
       "                                                                          'MonthlyCharges',\n",
       "                                                                          'AverageCharges']),\n",
       "                                                                        ('cat',\n",
       "                                                                         Pipeline(steps=[('imputer',\n",
       "                                                                                          SimpleImputer(strategy='most_frequent')),\n",
       "                                                                                         ('onehot',\n",
       "                                                                                          OneHotEncoder(drop='first',\n",
       "                                                                                                        ha...own='ignore'))]),\n",
       "                                                                         ['Gender',\n",
       "                                                                          'SeniorCitizen',\n",
       "                                                                          'Partner',\n",
       "                                                                          'Dependents',\n",
       "                                                                          'PhoneService',\n",
       "                                                                          'InternetService',\n",
       "                                                                          'NewCustomer'])])),\n",
       "                                       ('classifier',\n",
       "                                        RandomForestClassifier(class_weight='balanced',\n",
       "                                                               random_state=42))]),\n",
       "             n_jobs=-1,\n",
       "             param_grid={'classifier__max_depth': [5, 8],\n",
       "                         'classifier__min_samples_split': [2, 5],\n",
       "                         'classifier__n_estimators': [100, 150]},\n",
       "             scoring='f1', verbose=2)"
      ]
     },
     "execution_count": 47,
     "metadata": {},
     "output_type": "execute_result"
    }
   ],
   "source": [
    "# for randome forest\n",
    "import warnings \n",
    "warnings.filterwarnings('ignore')\n",
    "from sklearn.model_selection import GridSearchCV\n",
    "param_grid = {\n",
    "    'classifier__n_estimators': [100, 150],\n",
    "    'classifier__max_depth': [5, 8],\n",
    "    'classifier__min_samples_split': [2, 5]\n",
    "}\n",
    "\n",
    "grid_search_rf = GridSearchCV(\n",
    "    estimator=rf_pipeline,\n",
    "    param_grid=param_grid,\n",
    "    scoring='f1',  # focus on churners\n",
    "    cv=2,\n",
    "    n_jobs=-1,\n",
    "    verbose=2\n",
    ")\n",
    "\n",
    "grid_search_rf.fit(X_train, y_train)"
   ]
  },
  {
   "cell_type": "code",
   "execution_count": 51,
   "id": "39a9d947",
   "metadata": {},
   "outputs": [],
   "source": [
    "from xgboost import XGBClassifier\n",
    "from sklearn.model_selection import train_test_split, GridSearchCV\n",
    "from sklearn.metrics import f1_score, confusion_matrix\n"
   ]
  },
  {
   "cell_type": "code",
   "execution_count": 52,
   "id": "f5ff54ad",
   "metadata": {},
   "outputs": [],
   "source": [
    "xgb_pipeline = Pipeline(steps=[\n",
    "    ('preprocessor', preprocessor),  # your ColumnTransformer\n",
    "    ('classifier', XGBClassifier(\n",
    "        random_state=42,\n",
    "        use_label_encoder=False,\n",
    "        eval_metric='logloss',  \n",
    "        scale_pos_weight=(y_train.value_counts()[0] / y_train.value_counts()[1])\n",
    "    ))\n",
    "])"
   ]
  },
  {
   "cell_type": "code",
   "execution_count": 53,
   "id": "72cb629a",
   "metadata": {},
   "outputs": [],
   "source": [
    "param_grid_xgb = {\n",
    "    'classifier__n_estimators': [100, 150],\n",
    "    'classifier__max_depth': [3, 4],\n",
    "    'classifier__learning_rate': [0.05, 0.1]\n",
    "}"
   ]
  },
  {
   "cell_type": "code",
   "execution_count": 55,
   "id": "2860d4b3",
   "metadata": {},
   "outputs": [],
   "source": [
    "grid_search_xgb = GridSearchCV(\n",
    "    estimator=xgb_pipeline,\n",
    "    param_grid=param_grid_xgb,\n",
    "    scoring='f1',  # focuses on minority class\n",
    "    cv=2,          # faster execution\n",
    "    n_jobs=-1,\n",
    "    verbose=2\n",
    ")\n",
    "grid_search_xgb = GridSearchCV(\n",
    "    estimator=xgb_pipeline,\n",
    "    param_grid=param_grid_xgb,\n",
    "    scoring='f1',  # focuses on minority class\n",
    "    cv=2,          # faster execution\n",
    "    n_jobs=-1,\n",
    "    verbose=2\n",
    ")"
   ]
  },
  {
   "cell_type": "code",
   "execution_count": 57,
   "id": "885878bb",
   "metadata": {},
   "outputs": [],
   "source": [
    "y = y.map({'No': 0, 'Yes': 1})"
   ]
  },
  {
   "cell_type": "code",
   "execution_count": 58,
   "id": "9a0584b7",
   "metadata": {},
   "outputs": [],
   "source": [
    "X_train, X_test, y_train, y_test = train_test_split(\n",
    "    X, y, test_size=0.2, random_state=42, stratify=y\n",
    ")"
   ]
  },
  {
   "cell_type": "code",
   "execution_count": 59,
   "id": "794ba2f2",
   "metadata": {},
   "outputs": [
    {
     "name": "stdout",
     "output_type": "stream",
     "text": [
      "Fitting 2 folds for each of 8 candidates, totalling 16 fits\n"
     ]
    },
    {
     "data": {
      "text/html": [
       "<style>#sk-container-id-7 {color: black;}#sk-container-id-7 pre{padding: 0;}#sk-container-id-7 div.sk-toggleable {background-color: white;}#sk-container-id-7 label.sk-toggleable__label {cursor: pointer;display: block;width: 100%;margin-bottom: 0;padding: 0.3em;box-sizing: border-box;text-align: center;}#sk-container-id-7 label.sk-toggleable__label-arrow:before {content: \"▸\";float: left;margin-right: 0.25em;color: #696969;}#sk-container-id-7 label.sk-toggleable__label-arrow:hover:before {color: black;}#sk-container-id-7 div.sk-estimator:hover label.sk-toggleable__label-arrow:before {color: black;}#sk-container-id-7 div.sk-toggleable__content {max-height: 0;max-width: 0;overflow: hidden;text-align: left;background-color: #f0f8ff;}#sk-container-id-7 div.sk-toggleable__content pre {margin: 0.2em;color: black;border-radius: 0.25em;background-color: #f0f8ff;}#sk-container-id-7 input.sk-toggleable__control:checked~div.sk-toggleable__content {max-height: 200px;max-width: 100%;overflow: auto;}#sk-container-id-7 input.sk-toggleable__control:checked~label.sk-toggleable__label-arrow:before {content: \"▾\";}#sk-container-id-7 div.sk-estimator input.sk-toggleable__control:checked~label.sk-toggleable__label {background-color: #d4ebff;}#sk-container-id-7 div.sk-label input.sk-toggleable__control:checked~label.sk-toggleable__label {background-color: #d4ebff;}#sk-container-id-7 input.sk-hidden--visually {border: 0;clip: rect(1px 1px 1px 1px);clip: rect(1px, 1px, 1px, 1px);height: 1px;margin: -1px;overflow: hidden;padding: 0;position: absolute;width: 1px;}#sk-container-id-7 div.sk-estimator {font-family: monospace;background-color: #f0f8ff;border: 1px dotted black;border-radius: 0.25em;box-sizing: border-box;margin-bottom: 0.5em;}#sk-container-id-7 div.sk-estimator:hover {background-color: #d4ebff;}#sk-container-id-7 div.sk-parallel-item::after {content: \"\";width: 100%;border-bottom: 1px solid gray;flex-grow: 1;}#sk-container-id-7 div.sk-label:hover label.sk-toggleable__label {background-color: #d4ebff;}#sk-container-id-7 div.sk-serial::before {content: \"\";position: absolute;border-left: 1px solid gray;box-sizing: border-box;top: 0;bottom: 0;left: 50%;z-index: 0;}#sk-container-id-7 div.sk-serial {display: flex;flex-direction: column;align-items: center;background-color: white;padding-right: 0.2em;padding-left: 0.2em;position: relative;}#sk-container-id-7 div.sk-item {position: relative;z-index: 1;}#sk-container-id-7 div.sk-parallel {display: flex;align-items: stretch;justify-content: center;background-color: white;position: relative;}#sk-container-id-7 div.sk-item::before, #sk-container-id-7 div.sk-parallel-item::before {content: \"\";position: absolute;border-left: 1px solid gray;box-sizing: border-box;top: 0;bottom: 0;left: 50%;z-index: -1;}#sk-container-id-7 div.sk-parallel-item {display: flex;flex-direction: column;z-index: 1;position: relative;background-color: white;}#sk-container-id-7 div.sk-parallel-item:first-child::after {align-self: flex-end;width: 50%;}#sk-container-id-7 div.sk-parallel-item:last-child::after {align-self: flex-start;width: 50%;}#sk-container-id-7 div.sk-parallel-item:only-child::after {width: 0;}#sk-container-id-7 div.sk-dashed-wrapped {border: 1px dashed gray;margin: 0 0.4em 0.5em 0.4em;box-sizing: border-box;padding-bottom: 0.4em;background-color: white;}#sk-container-id-7 div.sk-label label {font-family: monospace;font-weight: bold;display: inline-block;line-height: 1.2em;}#sk-container-id-7 div.sk-label-container {text-align: center;}#sk-container-id-7 div.sk-container {/* jupyter's `normalize.less` sets `[hidden] { display: none; }` but bootstrap.min.css set `[hidden] { display: none !important; }` so we also need the `!important` here to be able to override the default hidden behavior on the sphinx rendered scikit-learn.org. See: https://github.com/scikit-learn/scikit-learn/issues/21755 */display: inline-block !important;position: relative;}#sk-container-id-7 div.sk-text-repr-fallback {display: none;}</style><div id=\"sk-container-id-7\" class=\"sk-top-container\"><div class=\"sk-text-repr-fallback\"><pre>GridSearchCV(cv=2,\n",
       "             estimator=Pipeline(steps=[(&#x27;preprocessor&#x27;,\n",
       "                                        ColumnTransformer(transformers=[(&#x27;num&#x27;,\n",
       "                                                                         Pipeline(steps=[(&#x27;imputer&#x27;,\n",
       "                                                                                          SimpleImputer(strategy=&#x27;median&#x27;)),\n",
       "                                                                                         (&#x27;scaler&#x27;,\n",
       "                                                                                          StandardScaler())]),\n",
       "                                                                         [&#x27;Tenure&#x27;,\n",
       "                                                                          &#x27;MonthlyCharges&#x27;,\n",
       "                                                                          &#x27;AverageCharges&#x27;]),\n",
       "                                                                        (&#x27;cat&#x27;,\n",
       "                                                                         Pipeline(steps=[(&#x27;imputer&#x27;,\n",
       "                                                                                          SimpleImputer(strategy=&#x27;most_frequent&#x27;)),\n",
       "                                                                                         (&#x27;onehot&#x27;,\n",
       "                                                                                          OneHotEncoder(drop=&#x27;first&#x27;,\n",
       "                                                                                                        ha...\n",
       "                                                      max_cat_to_onehot=None,\n",
       "                                                      max_delta_step=None,\n",
       "                                                      max_depth=None,\n",
       "                                                      max_leaves=None,\n",
       "                                                      min_child_weight=None,\n",
       "                                                      missing=nan,\n",
       "                                                      monotone_constraints=None,\n",
       "                                                      multi_strategy=None,\n",
       "                                                      n_estimators=None,\n",
       "                                                      n_jobs=None,\n",
       "                                                      num_parallel_tree=None, ...))]),\n",
       "             n_jobs=-1,\n",
       "             param_grid={&#x27;classifier__learning_rate&#x27;: [0.05, 0.1],\n",
       "                         &#x27;classifier__max_depth&#x27;: [3, 4],\n",
       "                         &#x27;classifier__n_estimators&#x27;: [100, 150]},\n",
       "             scoring=&#x27;f1&#x27;, verbose=2)</pre><b>In a Jupyter environment, please rerun this cell to show the HTML representation or trust the notebook. <br />On GitHub, the HTML representation is unable to render, please try loading this page with nbviewer.org.</b></div><div class=\"sk-container\" hidden><div class=\"sk-item sk-dashed-wrapped\"><div class=\"sk-label-container\"><div class=\"sk-label sk-toggleable\"><input class=\"sk-toggleable__control sk-hidden--visually\" id=\"sk-estimator-id-57\" type=\"checkbox\" ><label for=\"sk-estimator-id-57\" class=\"sk-toggleable__label sk-toggleable__label-arrow\">GridSearchCV</label><div class=\"sk-toggleable__content\"><pre>GridSearchCV(cv=2,\n",
       "             estimator=Pipeline(steps=[(&#x27;preprocessor&#x27;,\n",
       "                                        ColumnTransformer(transformers=[(&#x27;num&#x27;,\n",
       "                                                                         Pipeline(steps=[(&#x27;imputer&#x27;,\n",
       "                                                                                          SimpleImputer(strategy=&#x27;median&#x27;)),\n",
       "                                                                                         (&#x27;scaler&#x27;,\n",
       "                                                                                          StandardScaler())]),\n",
       "                                                                         [&#x27;Tenure&#x27;,\n",
       "                                                                          &#x27;MonthlyCharges&#x27;,\n",
       "                                                                          &#x27;AverageCharges&#x27;]),\n",
       "                                                                        (&#x27;cat&#x27;,\n",
       "                                                                         Pipeline(steps=[(&#x27;imputer&#x27;,\n",
       "                                                                                          SimpleImputer(strategy=&#x27;most_frequent&#x27;)),\n",
       "                                                                                         (&#x27;onehot&#x27;,\n",
       "                                                                                          OneHotEncoder(drop=&#x27;first&#x27;,\n",
       "                                                                                                        ha...\n",
       "                                                      max_cat_to_onehot=None,\n",
       "                                                      max_delta_step=None,\n",
       "                                                      max_depth=None,\n",
       "                                                      max_leaves=None,\n",
       "                                                      min_child_weight=None,\n",
       "                                                      missing=nan,\n",
       "                                                      monotone_constraints=None,\n",
       "                                                      multi_strategy=None,\n",
       "                                                      n_estimators=None,\n",
       "                                                      n_jobs=None,\n",
       "                                                      num_parallel_tree=None, ...))]),\n",
       "             n_jobs=-1,\n",
       "             param_grid={&#x27;classifier__learning_rate&#x27;: [0.05, 0.1],\n",
       "                         &#x27;classifier__max_depth&#x27;: [3, 4],\n",
       "                         &#x27;classifier__n_estimators&#x27;: [100, 150]},\n",
       "             scoring=&#x27;f1&#x27;, verbose=2)</pre></div></div></div><div class=\"sk-parallel\"><div class=\"sk-parallel-item\"><div class=\"sk-item\"><div class=\"sk-label-container\"><div class=\"sk-label sk-toggleable\"><input class=\"sk-toggleable__control sk-hidden--visually\" id=\"sk-estimator-id-58\" type=\"checkbox\" ><label for=\"sk-estimator-id-58\" class=\"sk-toggleable__label sk-toggleable__label-arrow\">estimator: Pipeline</label><div class=\"sk-toggleable__content\"><pre>Pipeline(steps=[(&#x27;preprocessor&#x27;,\n",
       "                 ColumnTransformer(transformers=[(&#x27;num&#x27;,\n",
       "                                                  Pipeline(steps=[(&#x27;imputer&#x27;,\n",
       "                                                                   SimpleImputer(strategy=&#x27;median&#x27;)),\n",
       "                                                                  (&#x27;scaler&#x27;,\n",
       "                                                                   StandardScaler())]),\n",
       "                                                  [&#x27;Tenure&#x27;, &#x27;MonthlyCharges&#x27;,\n",
       "                                                   &#x27;AverageCharges&#x27;]),\n",
       "                                                 (&#x27;cat&#x27;,\n",
       "                                                  Pipeline(steps=[(&#x27;imputer&#x27;,\n",
       "                                                                   SimpleImputer(strategy=&#x27;most_frequent&#x27;)),\n",
       "                                                                  (&#x27;onehot&#x27;,\n",
       "                                                                   OneHotEncoder(drop=&#x27;first&#x27;,\n",
       "                                                                                 handle_unknown=&#x27;ignore&#x27;))]),\n",
       "                                                  [&#x27;...\n",
       "                               feature_types=None, feature_weights=None,\n",
       "                               gamma=None, grow_policy=None,\n",
       "                               importance_type=None,\n",
       "                               interaction_constraints=None, learning_rate=None,\n",
       "                               max_bin=None, max_cat_threshold=None,\n",
       "                               max_cat_to_onehot=None, max_delta_step=None,\n",
       "                               max_depth=None, max_leaves=None,\n",
       "                               min_child_weight=None, missing=nan,\n",
       "                               monotone_constraints=None, multi_strategy=None,\n",
       "                               n_estimators=None, n_jobs=None,\n",
       "                               num_parallel_tree=None, ...))])</pre></div></div></div><div class=\"sk-serial\"><div class=\"sk-item\"><div class=\"sk-serial\"><div class=\"sk-item sk-dashed-wrapped\"><div class=\"sk-label-container\"><div class=\"sk-label sk-toggleable\"><input class=\"sk-toggleable__control sk-hidden--visually\" id=\"sk-estimator-id-59\" type=\"checkbox\" ><label for=\"sk-estimator-id-59\" class=\"sk-toggleable__label sk-toggleable__label-arrow\">preprocessor: ColumnTransformer</label><div class=\"sk-toggleable__content\"><pre>ColumnTransformer(transformers=[(&#x27;num&#x27;,\n",
       "                                 Pipeline(steps=[(&#x27;imputer&#x27;,\n",
       "                                                  SimpleImputer(strategy=&#x27;median&#x27;)),\n",
       "                                                 (&#x27;scaler&#x27;, StandardScaler())]),\n",
       "                                 [&#x27;Tenure&#x27;, &#x27;MonthlyCharges&#x27;,\n",
       "                                  &#x27;AverageCharges&#x27;]),\n",
       "                                (&#x27;cat&#x27;,\n",
       "                                 Pipeline(steps=[(&#x27;imputer&#x27;,\n",
       "                                                  SimpleImputer(strategy=&#x27;most_frequent&#x27;)),\n",
       "                                                 (&#x27;onehot&#x27;,\n",
       "                                                  OneHotEncoder(drop=&#x27;first&#x27;,\n",
       "                                                                handle_unknown=&#x27;ignore&#x27;))]),\n",
       "                                 [&#x27;Gender&#x27;, &#x27;SeniorCitizen&#x27;, &#x27;Partner&#x27;,\n",
       "                                  &#x27;Dependents&#x27;, &#x27;PhoneService&#x27;,\n",
       "                                  &#x27;InternetService&#x27;, &#x27;NewCustomer&#x27;])])</pre></div></div></div><div class=\"sk-parallel\"><div class=\"sk-parallel-item\"><div class=\"sk-item\"><div class=\"sk-label-container\"><div class=\"sk-label sk-toggleable\"><input class=\"sk-toggleable__control sk-hidden--visually\" id=\"sk-estimator-id-60\" type=\"checkbox\" ><label for=\"sk-estimator-id-60\" class=\"sk-toggleable__label sk-toggleable__label-arrow\">num</label><div class=\"sk-toggleable__content\"><pre>[&#x27;Tenure&#x27;, &#x27;MonthlyCharges&#x27;, &#x27;AverageCharges&#x27;]</pre></div></div></div><div class=\"sk-serial\"><div class=\"sk-item\"><div class=\"sk-serial\"><div class=\"sk-item\"><div class=\"sk-estimator sk-toggleable\"><input class=\"sk-toggleable__control sk-hidden--visually\" id=\"sk-estimator-id-61\" type=\"checkbox\" ><label for=\"sk-estimator-id-61\" class=\"sk-toggleable__label sk-toggleable__label-arrow\">SimpleImputer</label><div class=\"sk-toggleable__content\"><pre>SimpleImputer(strategy=&#x27;median&#x27;)</pre></div></div></div><div class=\"sk-item\"><div class=\"sk-estimator sk-toggleable\"><input class=\"sk-toggleable__control sk-hidden--visually\" id=\"sk-estimator-id-62\" type=\"checkbox\" ><label for=\"sk-estimator-id-62\" class=\"sk-toggleable__label sk-toggleable__label-arrow\">StandardScaler</label><div class=\"sk-toggleable__content\"><pre>StandardScaler()</pre></div></div></div></div></div></div></div></div><div class=\"sk-parallel-item\"><div class=\"sk-item\"><div class=\"sk-label-container\"><div class=\"sk-label sk-toggleable\"><input class=\"sk-toggleable__control sk-hidden--visually\" id=\"sk-estimator-id-63\" type=\"checkbox\" ><label for=\"sk-estimator-id-63\" class=\"sk-toggleable__label sk-toggleable__label-arrow\">cat</label><div class=\"sk-toggleable__content\"><pre>[&#x27;Gender&#x27;, &#x27;SeniorCitizen&#x27;, &#x27;Partner&#x27;, &#x27;Dependents&#x27;, &#x27;PhoneService&#x27;, &#x27;InternetService&#x27;, &#x27;NewCustomer&#x27;]</pre></div></div></div><div class=\"sk-serial\"><div class=\"sk-item\"><div class=\"sk-serial\"><div class=\"sk-item\"><div class=\"sk-estimator sk-toggleable\"><input class=\"sk-toggleable__control sk-hidden--visually\" id=\"sk-estimator-id-64\" type=\"checkbox\" ><label for=\"sk-estimator-id-64\" class=\"sk-toggleable__label sk-toggleable__label-arrow\">SimpleImputer</label><div class=\"sk-toggleable__content\"><pre>SimpleImputer(strategy=&#x27;most_frequent&#x27;)</pre></div></div></div><div class=\"sk-item\"><div class=\"sk-estimator sk-toggleable\"><input class=\"sk-toggleable__control sk-hidden--visually\" id=\"sk-estimator-id-65\" type=\"checkbox\" ><label for=\"sk-estimator-id-65\" class=\"sk-toggleable__label sk-toggleable__label-arrow\">OneHotEncoder</label><div class=\"sk-toggleable__content\"><pre>OneHotEncoder(drop=&#x27;first&#x27;, handle_unknown=&#x27;ignore&#x27;)</pre></div></div></div></div></div></div></div></div></div></div><div class=\"sk-item\"><div class=\"sk-estimator sk-toggleable\"><input class=\"sk-toggleable__control sk-hidden--visually\" id=\"sk-estimator-id-66\" type=\"checkbox\" ><label for=\"sk-estimator-id-66\" class=\"sk-toggleable__label sk-toggleable__label-arrow\">XGBClassifier</label><div class=\"sk-toggleable__content\"><pre>XGBClassifier(base_score=None, booster=None, callbacks=None,\n",
       "              colsample_bylevel=None, colsample_bynode=None,\n",
       "              colsample_bytree=None, device=None, early_stopping_rounds=None,\n",
       "              enable_categorical=False, eval_metric=&#x27;logloss&#x27;,\n",
       "              feature_types=None, feature_weights=None, gamma=None,\n",
       "              grow_policy=None, importance_type=None,\n",
       "              interaction_constraints=None, learning_rate=None, max_bin=None,\n",
       "              max_cat_threshold=None, max_cat_to_onehot=None,\n",
       "              max_delta_step=None, max_depth=None, max_leaves=None,\n",
       "              min_child_weight=None, missing=nan, monotone_constraints=None,\n",
       "              multi_strategy=None, n_estimators=None, n_jobs=None,\n",
       "              num_parallel_tree=None, ...)</pre></div></div></div></div></div></div></div></div></div></div></div></div>"
      ],
      "text/plain": [
       "GridSearchCV(cv=2,\n",
       "             estimator=Pipeline(steps=[('preprocessor',\n",
       "                                        ColumnTransformer(transformers=[('num',\n",
       "                                                                         Pipeline(steps=[('imputer',\n",
       "                                                                                          SimpleImputer(strategy='median')),\n",
       "                                                                                         ('scaler',\n",
       "                                                                                          StandardScaler())]),\n",
       "                                                                         ['Tenure',\n",
       "                                                                          'MonthlyCharges',\n",
       "                                                                          'AverageCharges']),\n",
       "                                                                        ('cat',\n",
       "                                                                         Pipeline(steps=[('imputer',\n",
       "                                                                                          SimpleImputer(strategy='most_frequent')),\n",
       "                                                                                         ('onehot',\n",
       "                                                                                          OneHotEncoder(drop='first',\n",
       "                                                                                                        ha...\n",
       "                                                      max_cat_to_onehot=None,\n",
       "                                                      max_delta_step=None,\n",
       "                                                      max_depth=None,\n",
       "                                                      max_leaves=None,\n",
       "                                                      min_child_weight=None,\n",
       "                                                      missing=nan,\n",
       "                                                      monotone_constraints=None,\n",
       "                                                      multi_strategy=None,\n",
       "                                                      n_estimators=None,\n",
       "                                                      n_jobs=None,\n",
       "                                                      num_parallel_tree=None, ...))]),\n",
       "             n_jobs=-1,\n",
       "             param_grid={'classifier__learning_rate': [0.05, 0.1],\n",
       "                         'classifier__max_depth': [3, 4],\n",
       "                         'classifier__n_estimators': [100, 150]},\n",
       "             scoring='f1', verbose=2)"
      ]
     },
     "execution_count": 59,
     "metadata": {},
     "output_type": "execute_result"
    }
   ],
   "source": [
    "grid_search_xgb.fit(X_train, y_train)"
   ]
  },
  {
   "cell_type": "code",
   "execution_count": 61,
   "id": "6e047152",
   "metadata": {},
   "outputs": [
    {
     "name": "stdout",
     "output_type": "stream",
     "text": [
      "F1-score: 0.33824598506377634\n",
      "Confusion Matrix:\n",
      " [[7428 7363]\n",
      " [2650 2559]]\n",
      "Best Parameters: {'classifier__learning_rate': 0.05, 'classifier__max_depth': 3, 'classifier__n_estimators': 150}\n"
     ]
    }
   ],
   "source": [
    "y_pred = grid_search_xgb.predict(X_test)\n",
    "\n",
    "f1 = f1_score(y_test, y_pred, pos_label=1)\n",
    "cm = confusion_matrix(y_test, y_pred)\n",
    "\n",
    "print(\"F1-score:\", f1)\n",
    "print(\"Confusion Matrix:\\n\", cm)\n",
    "print(\"Best Parameters:\", grid_search_xgb.best_params_)"
   ]
  },
  {
   "cell_type": "markdown",
   "id": "742cf6aa",
   "metadata": {},
   "source": [
    "Task_5: Handling Class Imbalance"
   ]
  },
  {
   "cell_type": "code",
   "execution_count": null,
   "id": "ca5d281b",
   "metadata": {},
   "outputs": [],
   "source": [
    "# doing class weighting\n",
    "\n",
    "from xgboost import XGBClassifier\n",
    "from sklearn.pipeline import Pipeline\n",
    "\n",
    "xgb_pipeline = Pipeline(steps=[\n",
    "    ('preprocessor', preprocessor),\n",
    "    ('classifier', XGBClassifier(\n",
    "        random_state=42,\n",
    "        use_label_encoder=False,\n",
    "        eval_metric='logloss',\n",
    "        scale_pos_weight=(y_train.value_counts()[0] / y_train.value_counts()[1])  # balances classes\n",
    "    ))\n",
    "])"
   ]
  },
  {
   "cell_type": "markdown",
   "id": "49b64eb5",
   "metadata": {},
   "source": [
    "insight: The F1-score came out around 0.34, which isn’t huge, but makes sense because only a small portion of customers actually churn. The F1-score focuses on these churners, so it tells us how well the model is catching them rather than just looking at overall accuracy."
   ]
  },
  {
   "cell_type": "markdown",
   "id": "9cd0b61b",
   "metadata": {},
   "source": [
    "> Comparison: With vs Without Class Imbalance Handling\n",
    "\n",
    "Without class weighting / imbalance handling:\n",
    ">>\n",
    "The model tended to predict mostly non-churners, because they are the majority class.\n",
    ">>\n",
    "F1-score was extremely low (close to 0), meaning the model almost never correctly identified churners.\n",
    ">>\n",
    "Confusion matrix showed almost all churners were missed.\n",
    ">\n",
    ">With class weighting (scale_pos_weight):\n",
    ">>\n",
    "The model now pays more attention to churners.\n",
    ">>\n",
    "F1-score improved to around 0.34, showing a significant gain in detecting the minority class.\n",
    ">>\n",
    "Confusion matrix confirms the model now correctly identifies a decent number of churners, though some are still missed."
   ]
  },
  {
   "cell_type": "markdown",
   "id": "aaa11aec",
   "metadata": {},
   "source": [
    "Task_6: Final Evaluation and Interpretation"
   ]
  },
  {
   "cell_type": "markdown",
   "id": "3aca29a2",
   "metadata": {},
   "source": [
    "1. Test Set Evaluation"
   ]
  },
  {
   "cell_type": "code",
   "execution_count": 63,
   "id": "3a6f84ee",
   "metadata": {},
   "outputs": [],
   "source": [
    "y_pred = grid_search_xgb.predict(X_test)"
   ]
  },
  {
   "cell_type": "code",
   "execution_count": 64,
   "id": "6e9c76a0",
   "metadata": {},
   "outputs": [
    {
     "name": "stdout",
     "output_type": "stream",
     "text": [
      "F1-score on Test Set: 0.33824598506377634\n",
      "Confusion Matrix on Test Set:\n",
      " [[7428 7363]\n",
      " [2650 2559]]\n"
     ]
    }
   ],
   "source": [
    "from sklearn.metrics import f1_score, confusion_matrix\n",
    "\n",
    "f1 = f1_score(y_test, y_pred, pos_label=1)   # 1 = churners\n",
    "cm = confusion_matrix(y_test, y_pred)\n",
    "\n",
    "print(\"F1-score on Test Set:\", f1)\n",
    "print(\"Confusion Matrix on Test Set:\\n\", cm)"
   ]
  },
  {
   "cell_type": "markdown",
   "id": "ace03282",
   "metadata": {},
   "source": [
    ">>Test Set Evaluation\n",
    "\n",
    "On the held-out test set, the class-weighted model achieved a higher F1-score, showing it identifies churners more effectively than the baseline. The confusion matrix confirms that more churners are correctly detected, even though overall accuracy drops slightly. This trade-off is acceptable since the business goal is to catch churners, not just maximize accuracy."
   ]
  },
  {
   "cell_type": "markdown",
   "id": "dd8ecfaa",
   "metadata": {},
   "source": [
    ">>Metrics Report"
   ]
  },
  {
   "cell_type": "code",
   "execution_count": 65,
   "id": "03cd069a",
   "metadata": {},
   "outputs": [
    {
     "name": "stdout",
     "output_type": "stream",
     "text": [
      "Precision: 0.2579117113485184\n",
      "Recall: 0.4912651180648877\n",
      "F1-Score: 0.33824598506377634\n",
      "ROC AUC: 0.49604830569517544\n",
      "\n",
      "Classification Report:\n",
      "               precision    recall  f1-score   support\n",
      "\n",
      "           0       0.74      0.50      0.60     14791\n",
      "           1       0.26      0.49      0.34      5209\n",
      "\n",
      "    accuracy                           0.50     20000\n",
      "   macro avg       0.50      0.50      0.47     20000\n",
      "weighted avg       0.61      0.50      0.53     20000\n",
      "\n",
      "Confusion Matrix:\n",
      " [[7428 7363]\n",
      " [2650 2559]]\n"
     ]
    }
   ],
   "source": [
    "from sklearn.metrics import precision_score, recall_score, f1_score, roc_auc_score, classification_report, confusion_matrix\n",
    "\n",
    "# Predictions\n",
    "y_pred = grid_search_xgb.predict(X_test)\n",
    "y_prob = grid_search_xgb.predict_proba(X_test)[:, 1]   # needed for ROC AUC\n",
    "\n",
    "# Metrics\n",
    "precision = precision_score(y_test, y_pred, pos_label=1)\n",
    "recall = recall_score(y_test, y_pred, pos_label=1)\n",
    "f1 = f1_score(y_test, y_pred, pos_label=1)\n",
    "roc_auc = roc_auc_score(y_test, y_prob)\n",
    "\n",
    "print(\"Precision:\", precision)\n",
    "print(\"Recall:\", recall)\n",
    "print(\"F1-Score:\", f1)\n",
    "print(\"ROC AUC:\", roc_auc)\n",
    "\n",
    "# Classification report\n",
    "print(\"\\nClassification Report:\\n\", classification_report(y_test, y_pred))\n",
    "\n",
    "# Confusion matrix\n",
    "print(\"Confusion Matrix:\\n\", confusion_matrix(y_test, y_pred))"
   ]
  },
  {
   "cell_type": "markdown",
   "id": "aef2bcf2",
   "metadata": {},
   "source": [
    ">> Interpretation"
   ]
  },
  {
   "cell_type": "markdown",
   "id": "4543ad1e",
   "metadata": {},
   "source": [
    "1. what is the business cost of a FP vs FN?\n",
    ">>>False Positive (FP):\n",
    "Business cost: we might give them discounts, special offers, or spend retention resources unnecessarily.\n",
    "what happens: we may wastes marketing/retention budget, but we can still keep our customer.\n",
    "\n",
    ">>>False Negative (FN):\n",
    "Business cost: we lose the customer (and all their future payments).\n",
    "what happens: Direct revenue loss, possible long-term brand damage, and costlier to reacquire new customers.\n",
    "\n",
    "2. Which one is worse?\n",
    ">>>False Negatives are worse because losing a customer costs much more than mistakenly offering a retention perk to someone who would’ve stayed anyway."
   ]
  },
  {
   "cell_type": "code",
   "execution_count": 66,
   "id": "771701f0",
   "metadata": {},
   "outputs": [
    {
     "data": {
      "image/png": "[encoded data removed]",
      "text/plain": [
       "<Figure size 800x600 with 1 Axes>"
      ]
     },
     "metadata": {},
     "output_type": "display_data"
    }
   ],
   "source": [
    "# if our model was tree based like randome forest or gradient boosting\n",
    "feature_names = (num_features + \n",
    "                 list(grid_search_xgb.best_estimator_\n",
    "                      .named_steps['preprocessor']\n",
    "                      .transformers_[1][1]\n",
    "                      .named_steps['onehot']\n",
    "                      .get_feature_names_out(cat_features)))\n",
    "\n",
    "importances = grid_search_xgb.best_estimator_.named_steps['classifier'].feature_importances_\n",
    "\n",
    "# Top 10 imp features\n",
    "feat_imp = pd.Series(importances, index=feature_names).sort_values(ascending=False).head(10)\n",
    "\n",
    "# Plots are as follows\n",
    "plt.figure(figsize=(8,6))\n",
    "feat_imp.plot(kind='barh')\n",
    "plt.title(\"Top 10 Most Important Features for Customer Churn\")\n",
    "plt.xlabel(\"Feature Importance\")\n",
    "plt.gca().invert_yaxis()\n",
    "plt.show()\n"
   ]
  }
 ],
 "metadata": {
  "kernelspec": {
   "display_name": "base",
   "language": "python",
   "name": "python3"
  },
  "language_info": {
   "codemirror_mode": {
    "name": "ipython",
    "version": 3
   },
   "file_extension": ".py",
   "mimetype": "text/x-python",
   "name": "python",
   "nbconvert_exporter": "python",
   "pygments_lexer": "ipython3",
   "version": "3.11.4"
  }
 },
 "nbformat": 4,
 "nbformat_minor": 5
}
